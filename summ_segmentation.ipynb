{
  "cells": [
    {
      "cell_type": "markdown",
      "metadata": {
        "id": "view-in-github",
        "colab_type": "text"
      },
      "source": [
        "<a href=\"https://colab.research.google.com/github/hselino/complaint_analysis/blob/main/summ_segmentation.ipynb\" target=\"_parent\"><img src=\"https://colab.research.google.com/assets/colab-badge.svg\" alt=\"Open In Colab\"/></a>"
      ]
    },
    {
      "cell_type": "code",
      "execution_count": 6,
      "metadata": {
        "colab": {
          "base_uri": "https://localhost:8080/"
        },
        "id": "80Af9UzHkD9M",
        "outputId": "2566ab21-4fb4-4693-f435-adfc6da9bf3f"
      },
      "outputs": [
        {
          "output_type": "stream",
          "name": "stdout",
          "text": [
            "✅ Notebook cleaned and ready for GitHub.\n"
          ]
        }
      ],
      "source": [
        "import nbformat\n",
        "\n",
        "path = \"/content/drive/MyDrive/Colab Notebooks/summ_segmentation.ipynb\"  # replace with your file\n",
        "\n",
        "with open(path, \"r\", encoding=\"utf-8\") as f:\n",
        "    nb = nbformat.read(f, as_version=4)\n",
        "\n",
        "# Remove invalid widgets metadata\n",
        "if \"widgets\" in nb[\"metadata\"]:\n",
        "    del nb[\"metadata\"][\"widgets\"]\n",
        "\n",
        "# Optionally, remove cell outputs too\n",
        "for cell in nb.cells:\n",
        "    if \"outputs\" in cell:\n",
        "        cell[\"outputs\"] = []\n",
        "    if \"execution_count\" in cell:\n",
        "        cell[\"execution_count\"] = None\n",
        "\n",
        "with open(path, \"w\", encoding=\"utf-8\") as f:\n",
        "    nbformat.write(nb, f)\n",
        "\n",
        "print(\"✅ Notebook cleaned and ready for GitHub.\")\n"
      ]
    },
    {
      "cell_type": "code",
      "execution_count": null,
      "metadata": {
        "id": "73YihqhZLKdO"
      },
      "outputs": [],
      "source": [
        "import nltk\n",
        "nltk.download('punkt_tab')\n"
      ]
    },
    {
      "cell_type": "code",
      "execution_count": 5,
      "metadata": {
        "id": "Uh7vlcRfbk3h",
        "colab": {
          "base_uri": "https://localhost:8080/"
        },
        "outputId": "851fa525-0f43-4651-b939-8e33a6b9ec64"
      },
      "outputs": [
        {
          "output_type": "stream",
          "name": "stdout",
          "text": [
            "Drive already mounted at /content/drive; to attempt to forcibly remount, call drive.mount(\"/content/drive\", force_remount=True).\n"
          ]
        }
      ],
      "source": [
        "from google.colab import drive\n",
        "drive.mount('/content/drive')"
      ]
    },
    {
      "cell_type": "code",
      "execution_count": null,
      "metadata": {
        "id": "IZXSa7M2LneL"
      },
      "outputs": [],
      "source": [
        "import pandas as pd\n",
        "df = pd.read_csv(\"/content/drive/MyDrive/prj/summ.csv\")"
      ]
    },
    {
      "cell_type": "code",
      "execution_count": null,
      "metadata": {
        "id": "uSRXtU9-anfn"
      },
      "outputs": [],
      "source": [
        "df.head()"
      ]
    },
    {
      "cell_type": "code",
      "execution_count": null,
      "metadata": {
        "id": "3eoHzsqpdEGQ"
      },
      "outputs": [],
      "source": [
        "df[\"content\"].iloc[0]"
      ]
    },
    {
      "cell_type": "code",
      "execution_count": null,
      "metadata": {
        "id": "oLDRTxDved6d"
      },
      "outputs": [],
      "source": [
        "df2 = df.head(10000).copy()"
      ]
    },
    {
      "cell_type": "code",
      "execution_count": null,
      "metadata": {
        "colab": {
          "background_save": true
        },
        "collapsed": true,
        "id": "yzY_D6wELvvy"
      },
      "outputs": [],
      "source": [
        "df2[\"content\"] = df2[\"content\"].astype(str).apply(zeyrek_preprocess)\n",
        "df2[\"abstract\"] = df2[\"abstract\"].astype(str).apply(zeyrek_preprocess)\n",
        "# 6. (Optional) Save the processed dataset to a new CSV\n",
        "df2.to_csv(\"segmented_summ.csv\", index=False)\n",
        "df2.to_csv(\"/content/drive/MyDrive/prj/summ.csv\", index=False)"
      ]
    },
    {
      "cell_type": "code",
      "execution_count": null,
      "metadata": {
        "collapsed": true,
        "id": "OcEwq-rPsjtI"
      },
      "outputs": [],
      "source": [
        "zeyrek_preprocess(df[\"content\"].iloc[0])"
      ]
    },
    {
      "cell_type": "markdown",
      "metadata": {
        "id": "j3hepGnqvZx7"
      },
      "source": [
        "# stanza"
      ]
    },
    {
      "cell_type": "code",
      "execution_count": null,
      "metadata": {
        "collapsed": true,
        "id": "-m5BxJKmi1Su"
      },
      "outputs": [],
      "source": [
        "!pip install stanza"
      ]
    },
    {
      "cell_type": "code",
      "execution_count": null,
      "metadata": {
        "collapsed": true,
        "id": "BQEVVLoRi4Nt"
      },
      "outputs": [],
      "source": [
        "import stanza\n",
        "# Download the Turkish pipeline (only needed once)\n",
        "stanza.download(\"tr\")\n",
        "\n",
        "# Load with GPU support\n",
        "nlp = stanza.Pipeline(\"tr\", processors=\"tokenize,mwt,pos,lemma\", use_gpu=True)"
      ]
    },
    {
      "cell_type": "code",
      "execution_count": null,
      "metadata": {
        "id": "x0l0C5LDi2Fz"
      },
      "outputs": [],
      "source": [
        "def stanza_preprocess(text):\n",
        "    doc = nlp(text)\n",
        "    processed_tokens = [\n",
        "        word.lemma if word.lemma is not None else word.text  # Replace None with original word\n",
        "        for sentence in doc.sentences for word in sentence.words\n",
        "    ]\n",
        "    return \" \".join(processed_tokens)"
      ]
    },
    {
      "cell_type": "code",
      "execution_count": null,
      "metadata": {
        "id": "jqVU5kV2q2ku"
      },
      "outputs": [],
      "source": [
        "df[\"content\"].iloc[0]"
      ]
    },
    {
      "cell_type": "code",
      "execution_count": null,
      "metadata": {
        "id": "HbCs7myGp_tT"
      },
      "outputs": [],
      "source": [
        "stanza_preprocess(df[\"content\"].iloc[0])"
      ]
    },
    {
      "cell_type": "code",
      "execution_count": null,
      "metadata": {
        "id": "CCQbTs8Bv80H"
      },
      "outputs": [],
      "source": [
        "stanza_preprocess(df2[\"complaint_text\"].iloc[1])"
      ]
    },
    {
      "cell_type": "code",
      "execution_count": null,
      "metadata": {
        "id": "f4RkneB0i-O_"
      },
      "outputs": [],
      "source": [
        "df2[\"content\"] = df2[\"content\"].astype(str).apply(stanza_preprocess)\n",
        "#df2[\"abstract\"] = df2[\"abstract\"].astype(str).apply(stanza_preprocess)"
      ]
    },
    {
      "cell_type": "code",
      "execution_count": null,
      "metadata": {
        "id": "8FRL5jTVv1QX"
      },
      "outputs": [],
      "source": [
        "df2.to_csv(\"/content/drive/MyDrive/prj/segmented_summ.csv\", index=False)"
      ]
    },
    {
      "cell_type": "code",
      "execution_count": null,
      "metadata": {
        "id": "bbZrmolpu4jK"
      },
      "outputs": [],
      "source": [
        "df2"
      ]
    }
  ],
  "metadata": {
    "accelerator": "GPU",
    "colab": {
      "gpuType": "A100",
      "machine_shape": "hm",
      "provenance": [],
      "authorship_tag": "ABX9TyM4PwsjOHv2cqjAZXk0YLih",
      "include_colab_link": true
    },
    "kernelspec": {
      "display_name": "Python 3",
      "name": "python3"
    },
    "language_info": {
      "name": "python"
    }
  },
  "nbformat": 4,
  "nbformat_minor": 0
}