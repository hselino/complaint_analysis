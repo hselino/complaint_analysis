{
  "nbformat": 4,
  "nbformat_minor": 0,
  "metadata": {
    "colab": {
      "provenance": [],
      "machine_shape": "hm",
      "gpuType": "A100",
      "authorship_tag": "ABX9TyMr1B8njD5J/+jQxr//4JPj",
      "include_colab_link": true
    },
    "kernelspec": {
      "name": "python3",
      "display_name": "Python 3"
    },
    "language_info": {
      "name": "python"
    },
    "accelerator": "GPU"
  },
  "cells": [
    {
      "cell_type": "markdown",
      "metadata": {
        "id": "view-in-github",
        "colab_type": "text"
      },
      "source": [
        "<a href=\"https://colab.research.google.com/github/hselino/complaint_analysis/blob/main/sample_response.ipynb\" target=\"_parent\"><img src=\"https://colab.research.google.com/assets/colab-badge.svg\" alt=\"Open In Colab\"/></a>"
      ]
    },
    {
      "cell_type": "code",
      "execution_count": 1,
      "metadata": {
        "colab": {
          "base_uri": "https://localhost:8080/"
        },
        "id": "M9YyRHumpoB0",
        "outputId": "a40795db-6c27-4a27-b80f-4c65367fe1cd"
      },
      "outputs": [
        {
          "output_type": "stream",
          "name": "stdout",
          "text": [
            "Mounted at /content/drive\n"
          ]
        }
      ],
      "source": [
        "from google.colab import drive\n",
        "drive.mount('/content/drive')"
      ]
    },
    {
      "cell_type": "code",
      "source": [
        "import torch\n",
        "import pandas as pd\n",
        "import numpy as np\n",
        "from transformers import AutoTokenizer, AutoModelForSequenceClassification\n",
        "from sklearn.model_selection import train_test_split\n",
        "from sklearn.preprocessing import LabelEncoder\n",
        "from sklearn.metrics import accuracy_score, precision_recall_fscore_support"
      ],
      "metadata": {
        "id": "CQNic1-cv1EN"
      },
      "execution_count": 2,
      "outputs": []
    },
    {
      "cell_type": "code",
      "source": [
        "# Load dataset\n",
        "df = pd.read_csv(\"/content/drive/MyDrive/prj/segmented_class.csv\")\n",
        "df = df.drop(columns=[\"Unnamed: 0\"], errors='ignore')\n",
        "\n",
        "# Drop any rows with missing data\n",
        "df = df.dropna()\n"
      ],
      "metadata": {
        "id": "he6bVVvlur5v"
      },
      "execution_count": 3,
      "outputs": []
    },
    {
      "cell_type": "code",
      "source": [
        "df.head()"
      ],
      "metadata": {
        "colab": {
          "base_uri": "https://localhost:8080/",
          "height": 206
        },
        "id": "UkdV3fH2vPRr",
        "outputId": "0f826a58-f393-496d-c989-8b566b89eb3f"
      },
      "execution_count": 4,
      "outputs": [
        {
          "output_type": "execute_result",
          "data": {
            "text/plain": [
              "                                      complaint_text  \\\n",
              "0  kendi homepoint finansal olarak kısmen ol cidd...   \n",
              "1  equifax kredi raporum sahtekarlık uyarım var r...   \n",
              "2  son zaman aldatmaca işle para kimlik çal kişis...   \n",
              "3  dağ zirves financial tan kredi ön plan çık ilg...   \n",
              "4  arizona doğum tarih ss transunion llc tüket ci...   \n",
              "\n",
              "                              category  \n",
              "0         ödeme süreci sırasında sorun  \n",
              "1       raporunuzun uygunsuz kullanımı  \n",
              "2          borçlu borç alma denemeleri  \n",
              "3  borçlu servic iletişime geçilemiyor  \n",
              "4        raporunuzdaki yanlış bilgiler  "
            ],
            "text/html": [
              "\n",
              "  <div id=\"df-fc9c2303-a42d-423e-a2ae-dd358697653d\" class=\"colab-df-container\">\n",
              "    <div>\n",
              "<style scoped>\n",
              "    .dataframe tbody tr th:only-of-type {\n",
              "        vertical-align: middle;\n",
              "    }\n",
              "\n",
              "    .dataframe tbody tr th {\n",
              "        vertical-align: top;\n",
              "    }\n",
              "\n",
              "    .dataframe thead th {\n",
              "        text-align: right;\n",
              "    }\n",
              "</style>\n",
              "<table border=\"1\" class=\"dataframe\">\n",
              "  <thead>\n",
              "    <tr style=\"text-align: right;\">\n",
              "      <th></th>\n",
              "      <th>complaint_text</th>\n",
              "      <th>category</th>\n",
              "    </tr>\n",
              "  </thead>\n",
              "  <tbody>\n",
              "    <tr>\n",
              "      <th>0</th>\n",
              "      <td>kendi homepoint finansal olarak kısmen ol cidd...</td>\n",
              "      <td>ödeme süreci sırasında sorun</td>\n",
              "    </tr>\n",
              "    <tr>\n",
              "      <th>1</th>\n",
              "      <td>equifax kredi raporum sahtekarlık uyarım var r...</td>\n",
              "      <td>raporunuzun uygunsuz kullanımı</td>\n",
              "    </tr>\n",
              "    <tr>\n",
              "      <th>2</th>\n",
              "      <td>son zaman aldatmaca işle para kimlik çal kişis...</td>\n",
              "      <td>borçlu borç alma denemeleri</td>\n",
              "    </tr>\n",
              "    <tr>\n",
              "      <th>3</th>\n",
              "      <td>dağ zirves financial tan kredi ön plan çık ilg...</td>\n",
              "      <td>borçlu servic iletişime geçilemiyor</td>\n",
              "    </tr>\n",
              "    <tr>\n",
              "      <th>4</th>\n",
              "      <td>arizona doğum tarih ss transunion llc tüket ci...</td>\n",
              "      <td>raporunuzdaki yanlış bilgiler</td>\n",
              "    </tr>\n",
              "  </tbody>\n",
              "</table>\n",
              "</div>\n",
              "    <div class=\"colab-df-buttons\">\n",
              "\n",
              "  <div class=\"colab-df-container\">\n",
              "    <button class=\"colab-df-convert\" onclick=\"convertToInteractive('df-fc9c2303-a42d-423e-a2ae-dd358697653d')\"\n",
              "            title=\"Convert this dataframe to an interactive table.\"\n",
              "            style=\"display:none;\">\n",
              "\n",
              "  <svg xmlns=\"http://www.w3.org/2000/svg\" height=\"24px\" viewBox=\"0 -960 960 960\">\n",
              "    <path d=\"M120-120v-720h720v720H120Zm60-500h600v-160H180v160Zm220 220h160v-160H400v160Zm0 220h160v-160H400v160ZM180-400h160v-160H180v160Zm440 0h160v-160H620v160ZM180-180h160v-160H180v160Zm440 0h160v-160H620v160Z\"/>\n",
              "  </svg>\n",
              "    </button>\n",
              "\n",
              "  <style>\n",
              "    .colab-df-container {\n",
              "      display:flex;\n",
              "      gap: 12px;\n",
              "    }\n",
              "\n",
              "    .colab-df-convert {\n",
              "      background-color: #E8F0FE;\n",
              "      border: none;\n",
              "      border-radius: 50%;\n",
              "      cursor: pointer;\n",
              "      display: none;\n",
              "      fill: #1967D2;\n",
              "      height: 32px;\n",
              "      padding: 0 0 0 0;\n",
              "      width: 32px;\n",
              "    }\n",
              "\n",
              "    .colab-df-convert:hover {\n",
              "      background-color: #E2EBFA;\n",
              "      box-shadow: 0px 1px 2px rgba(60, 64, 67, 0.3), 0px 1px 3px 1px rgba(60, 64, 67, 0.15);\n",
              "      fill: #174EA6;\n",
              "    }\n",
              "\n",
              "    .colab-df-buttons div {\n",
              "      margin-bottom: 4px;\n",
              "    }\n",
              "\n",
              "    [theme=dark] .colab-df-convert {\n",
              "      background-color: #3B4455;\n",
              "      fill: #D2E3FC;\n",
              "    }\n",
              "\n",
              "    [theme=dark] .colab-df-convert:hover {\n",
              "      background-color: #434B5C;\n",
              "      box-shadow: 0px 1px 3px 1px rgba(0, 0, 0, 0.15);\n",
              "      filter: drop-shadow(0px 1px 2px rgba(0, 0, 0, 0.3));\n",
              "      fill: #FFFFFF;\n",
              "    }\n",
              "  </style>\n",
              "\n",
              "    <script>\n",
              "      const buttonEl =\n",
              "        document.querySelector('#df-fc9c2303-a42d-423e-a2ae-dd358697653d button.colab-df-convert');\n",
              "      buttonEl.style.display =\n",
              "        google.colab.kernel.accessAllowed ? 'block' : 'none';\n",
              "\n",
              "      async function convertToInteractive(key) {\n",
              "        const element = document.querySelector('#df-fc9c2303-a42d-423e-a2ae-dd358697653d');\n",
              "        const dataTable =\n",
              "          await google.colab.kernel.invokeFunction('convertToInteractive',\n",
              "                                                    [key], {});\n",
              "        if (!dataTable) return;\n",
              "\n",
              "        const docLinkHtml = 'Like what you see? Visit the ' +\n",
              "          '<a target=\"_blank\" href=https://colab.research.google.com/notebooks/data_table.ipynb>data table notebook</a>'\n",
              "          + ' to learn more about interactive tables.';\n",
              "        element.innerHTML = '';\n",
              "        dataTable['output_type'] = 'display_data';\n",
              "        await google.colab.output.renderOutput(dataTable, element);\n",
              "        const docLink = document.createElement('div');\n",
              "        docLink.innerHTML = docLinkHtml;\n",
              "        element.appendChild(docLink);\n",
              "      }\n",
              "    </script>\n",
              "  </div>\n",
              "\n",
              "\n",
              "<div id=\"df-bb5c3140-759c-41a5-9593-044370fe82a2\">\n",
              "  <button class=\"colab-df-quickchart\" onclick=\"quickchart('df-bb5c3140-759c-41a5-9593-044370fe82a2')\"\n",
              "            title=\"Suggest charts\"\n",
              "            style=\"display:none;\">\n",
              "\n",
              "<svg xmlns=\"http://www.w3.org/2000/svg\" height=\"24px\"viewBox=\"0 0 24 24\"\n",
              "     width=\"24px\">\n",
              "    <g>\n",
              "        <path d=\"M19 3H5c-1.1 0-2 .9-2 2v14c0 1.1.9 2 2 2h14c1.1 0 2-.9 2-2V5c0-1.1-.9-2-2-2zM9 17H7v-7h2v7zm4 0h-2V7h2v10zm4 0h-2v-4h2v4z\"/>\n",
              "    </g>\n",
              "</svg>\n",
              "  </button>\n",
              "\n",
              "<style>\n",
              "  .colab-df-quickchart {\n",
              "      --bg-color: #E8F0FE;\n",
              "      --fill-color: #1967D2;\n",
              "      --hover-bg-color: #E2EBFA;\n",
              "      --hover-fill-color: #174EA6;\n",
              "      --disabled-fill-color: #AAA;\n",
              "      --disabled-bg-color: #DDD;\n",
              "  }\n",
              "\n",
              "  [theme=dark] .colab-df-quickchart {\n",
              "      --bg-color: #3B4455;\n",
              "      --fill-color: #D2E3FC;\n",
              "      --hover-bg-color: #434B5C;\n",
              "      --hover-fill-color: #FFFFFF;\n",
              "      --disabled-bg-color: #3B4455;\n",
              "      --disabled-fill-color: #666;\n",
              "  }\n",
              "\n",
              "  .colab-df-quickchart {\n",
              "    background-color: var(--bg-color);\n",
              "    border: none;\n",
              "    border-radius: 50%;\n",
              "    cursor: pointer;\n",
              "    display: none;\n",
              "    fill: var(--fill-color);\n",
              "    height: 32px;\n",
              "    padding: 0;\n",
              "    width: 32px;\n",
              "  }\n",
              "\n",
              "  .colab-df-quickchart:hover {\n",
              "    background-color: var(--hover-bg-color);\n",
              "    box-shadow: 0 1px 2px rgba(60, 64, 67, 0.3), 0 1px 3px 1px rgba(60, 64, 67, 0.15);\n",
              "    fill: var(--button-hover-fill-color);\n",
              "  }\n",
              "\n",
              "  .colab-df-quickchart-complete:disabled,\n",
              "  .colab-df-quickchart-complete:disabled:hover {\n",
              "    background-color: var(--disabled-bg-color);\n",
              "    fill: var(--disabled-fill-color);\n",
              "    box-shadow: none;\n",
              "  }\n",
              "\n",
              "  .colab-df-spinner {\n",
              "    border: 2px solid var(--fill-color);\n",
              "    border-color: transparent;\n",
              "    border-bottom-color: var(--fill-color);\n",
              "    animation:\n",
              "      spin 1s steps(1) infinite;\n",
              "  }\n",
              "\n",
              "  @keyframes spin {\n",
              "    0% {\n",
              "      border-color: transparent;\n",
              "      border-bottom-color: var(--fill-color);\n",
              "      border-left-color: var(--fill-color);\n",
              "    }\n",
              "    20% {\n",
              "      border-color: transparent;\n",
              "      border-left-color: var(--fill-color);\n",
              "      border-top-color: var(--fill-color);\n",
              "    }\n",
              "    30% {\n",
              "      border-color: transparent;\n",
              "      border-left-color: var(--fill-color);\n",
              "      border-top-color: var(--fill-color);\n",
              "      border-right-color: var(--fill-color);\n",
              "    }\n",
              "    40% {\n",
              "      border-color: transparent;\n",
              "      border-right-color: var(--fill-color);\n",
              "      border-top-color: var(--fill-color);\n",
              "    }\n",
              "    60% {\n",
              "      border-color: transparent;\n",
              "      border-right-color: var(--fill-color);\n",
              "    }\n",
              "    80% {\n",
              "      border-color: transparent;\n",
              "      border-right-color: var(--fill-color);\n",
              "      border-bottom-color: var(--fill-color);\n",
              "    }\n",
              "    90% {\n",
              "      border-color: transparent;\n",
              "      border-bottom-color: var(--fill-color);\n",
              "    }\n",
              "  }\n",
              "</style>\n",
              "\n",
              "  <script>\n",
              "    async function quickchart(key) {\n",
              "      const quickchartButtonEl =\n",
              "        document.querySelector('#' + key + ' button');\n",
              "      quickchartButtonEl.disabled = true;  // To prevent multiple clicks.\n",
              "      quickchartButtonEl.classList.add('colab-df-spinner');\n",
              "      try {\n",
              "        const charts = await google.colab.kernel.invokeFunction(\n",
              "            'suggestCharts', [key], {});\n",
              "      } catch (error) {\n",
              "        console.error('Error during call to suggestCharts:', error);\n",
              "      }\n",
              "      quickchartButtonEl.classList.remove('colab-df-spinner');\n",
              "      quickchartButtonEl.classList.add('colab-df-quickchart-complete');\n",
              "    }\n",
              "    (() => {\n",
              "      let quickchartButtonEl =\n",
              "        document.querySelector('#df-bb5c3140-759c-41a5-9593-044370fe82a2 button');\n",
              "      quickchartButtonEl.style.display =\n",
              "        google.colab.kernel.accessAllowed ? 'block' : 'none';\n",
              "    })();\n",
              "  </script>\n",
              "</div>\n",
              "\n",
              "    </div>\n",
              "  </div>\n"
            ],
            "application/vnd.google.colaboratory.intrinsic+json": {
              "type": "dataframe",
              "variable_name": "df",
              "summary": "{\n  \"name\": \"df\",\n  \"rows\": 9999,\n  \"fields\": [\n    {\n      \"column\": \"complaint_text\",\n      \"properties\": {\n        \"dtype\": \"string\",\n        \"num_unique_values\": 9964,\n        \"samples\": [\n          \"\\u00f6\\u011fe g\\u00fcn kredi raporum fark et y\\u00fcz california check i cashing i \\u00e7a\\u011f\\u0131r kimlik h\\u0131rs\\u0131zl\\u0131k kurban ol gerek inan bil o hi\\u00e7 ba\\u015fvur kredi al hesap zaten \\u00fc\\u00e7\\u00fcnc\\u00fc taraf bor\\u00e7 tahsildar ajans sat bil\",\n          \"nc 2022 sevgili transunion i t\\u00fcket ci do\\u011fal ki\\u015fi sahip ol kongr taraf adil kredi raporlama yasa kapsam kongr taraf koru t\\u00fcm hak fark i fcra a\\u015fa\\u011f\\u0131 ki hesap liste federal olarak koru t\\u00fcket ci hak gizlilik gizlilik usc 1681 b\\u00f6l\\u00fcm 602 t\\u00fcket acenti 2 ye sahip ol sa\\u011fla yaz\\u0131l\\u0131 talimat ol hesap derhal sil ba\\u015f 100000 tut iste s\\u00fcrece 2 hesap ad hesap 15 usc 1681 b\\u00f6l\\u00fcm 602 devlet gizlilik hak sah usc 1681 b\\u00f6l\\u00fcm 604 a b\\u00f6l\\u00fcm 2 ayr\\u0131ca t\\u00fcket ci raporlama ajans yaz\\u0131l\\u0131 talimat ol hesap ver 4 hesap ad hesap numara 15 usc 1681 b\\u00f6l\\u00fcm 602 a devlet gizlilik hak 15 usc 1681 b\\u00f6l\\u00fcm 604 ayr\\u0131ca t\\u00fcket ci raporlama ajans yaz\\u0131l\\u0131 talimat ol hesap sun 15 usc 1681 b\\u00f6l\\u00fcm 602 k\\u0131s\\u0131m 60 hesap ver 15 usc b\\u00f6l\\u00fcm 60 15 usc b\\u00f6l\\u00fcm 602 i usc 15 usc i ol hesap sun 16 b\\u00f6l\\u00fcm 2 ayr\\u0131ca t\\u00fcket ci raporlama ajans yaz\\u0131l\\u0131 talimat ol hesap sun belir i 6 hesap ad dpt hesap numara 15 usc 1681 b\\u00f6l\\u00fcm 602 a devlet i lgi li 15 usc 1681 b\\u00f6l\\u00fcm 604 a b\\u00f6l\\u00fcm 2 ayr\\u0131ca t\\u00fcket ci raporlama ajans yaz\\u0131l\\u0131 talimat ol hesap ver 19.A\\u011fu hesap ad dpt hesap numara 15 usc 1681 b\\u00f6l\\u00fcm 60 usc is 2 ayr\\u0131ca t\\u00fcket ci raporlama ajans yaz\\u0131l\\u0131 talimat ol hesap ver belir\",\n          \"merhaba ben ad\\u0131m g\\u00f6nder iddia et birka\\u00e7 ay ge\\u00e7 banka hesab\\u0131m yat\\u0131r vergi iade eri\\u015f gerek beri hesap numaram her vergi iadem al beri bankam fon kullan kullan bu kullan bu kullan bu ben \\u015fey ben yeni \\u015fey olarak do\\u011frul gibi do\\u011frula ihtiya\\u00e7 duy ben do\\u011frula gerekli ol s\\u00f6yle asla umur gibi asla cevap yok ya sadece na fon tut devam et\"\n        ],\n        \"semantic_type\": \"\",\n        \"description\": \"\"\n      }\n    },\n    {\n      \"column\": \"category\",\n      \"properties\": {\n        \"dtype\": \"category\",\n        \"num_unique_values\": 138,\n        \"samples\": [\n          \"beklenmedik di\\u011fer \\u00fccretler\",\n          \"ba\\u015fvurmad\\u0131\\u011f\\u0131n\\u0131z kredi ald\\u0131\",\n          \"para vaat edildi\\u011finde mevcut de\\u011fildi\"\n        ],\n        \"semantic_type\": \"\",\n        \"description\": \"\"\n      }\n    }\n  ]\n}"
            }
          },
          "metadata": {},
          "execution_count": 4
        }
      ]
    },
    {
      "cell_type": "code",
      "source": [
        "from sklearn.preprocessing import LabelEncoder\n",
        "\n",
        "label_encoder = LabelEncoder()\n",
        "df['encoded_label'] = label_encoder.fit_transform(df['category'])\n"
      ],
      "metadata": {
        "id": "XskG2OSUvNP6"
      },
      "execution_count": 5,
      "outputs": []
    },
    {
      "cell_type": "code",
      "source": [
        "from sklearn.model_selection import train_test_split\n",
        "\n",
        "train_texts, val_texts, train_labels, val_labels = train_test_split(\n",
        "    df['complaint_text'].tolist(),\n",
        "    df['encoded_label'].tolist(),\n",
        "    test_size=0.2,\n",
        "    random_state=42\n",
        ")\n"
      ],
      "metadata": {
        "id": "kqP5Kq5BvWRv"
      },
      "execution_count": 6,
      "outputs": []
    },
    {
      "cell_type": "code",
      "source": [
        "bert1_path = \"/content/drive/MyDrive/prj/fine_tuned_model/class_model\"\n",
        "bert2_path = \"/content/drive/MyDrive/prj/fine_tuned_model/berturk_model\"\n",
        "turna_path = \"/content/drive/MyDrive/prj/fine_tuned_model/turna_model\"\n",
        "multi_path = \"/content/drive/MyDrive/prj/fine_tuned_model/multilingual_model\""
      ],
      "metadata": {
        "id": "CawC_WLLrWjF"
      },
      "execution_count": 9,
      "outputs": []
    },
    {
      "cell_type": "code",
      "source": [
        "def evaluate_model(model_path, val_texts, val_labels):\n",
        "    from transformers import AutoModelForSequenceClassification, AutoTokenizer\n",
        "    import numpy as np\n",
        "    from sklearn.metrics import accuracy_score, precision_recall_fscore_support\n",
        "\n",
        "    device = torch.device(\"cuda\" if torch.cuda.is_available() else \"cpu\")\n",
        "\n",
        "    # Load model and tokenizer from the same path\n",
        "    model = AutoModelForSequenceClassification.from_pretrained(model_path).to(device)\n",
        "    tokenizer = AutoTokenizer.from_pretrained(model_path)\n",
        "\n",
        "    # Tokenize inputs\n",
        "    inputs = tokenizer(val_texts, truncation=True, padding=True, max_length=128, return_tensors=\"pt\")\n",
        "    inputs = {k: v.to(device) for k, v in inputs.items()}\n",
        "\n",
        "    with torch.no_grad():\n",
        "        outputs = model(**inputs)\n",
        "        probs = torch.nn.functional.softmax(outputs.logits, dim=-1)\n",
        "        preds = torch.argmax(probs, dim=1).cpu().numpy()\n",
        "\n",
        "    true = np.array(val_labels)\n",
        "    acc = accuracy_score(true, preds)\n",
        "    precision, recall, f1, _ = precision_recall_fscore_support(true, preds, average='weighted')\n",
        "\n",
        "    return {\n",
        "        \"accuracy\": acc,\n",
        "        \"precision\": precision,\n",
        "        \"recall\": recall,\n",
        "        \"f1\": f1\n",
        "    }\n"
      ],
      "metadata": {
        "id": "ZvBF82FnvbVx"
      },
      "execution_count": 8,
      "outputs": []
    },
    {
      "cell_type": "code",
      "source": [
        "model_paths = [bert1_path, bert2_path, turna_path, multi_path]  # Add your actual paths here\n",
        "\n",
        "for path in model_paths:\n",
        "    metrics = evaluate_model(path, val_texts, val_labels)\n",
        "    print(f\"📦 Metrics for {path}:\")\n",
        "    for k, v in metrics.items():\n",
        "        print(f\"{k.capitalize()}: {v:.4f}\")\n",
        "    print(\"—\" * 40)\n"
      ],
      "metadata": {
        "colab": {
          "base_uri": "https://localhost:8080/"
        },
        "collapsed": true,
        "id": "gMx2nVhhvcVL",
        "outputId": "8cff6e52-c455-4a0b-e689-118fd393a712"
      },
      "execution_count": 10,
      "outputs": [
        {
          "output_type": "stream",
          "name": "stderr",
          "text": [
            "/usr/local/lib/python3.11/dist-packages/sklearn/metrics/_classification.py:1565: UndefinedMetricWarning: Precision is ill-defined and being set to 0.0 in labels with no predicted samples. Use `zero_division` parameter to control this behavior.\n",
            "  _warn_prf(average, modifier, f\"{metric.capitalize()} is\", len(result))\n"
          ]
        },
        {
          "output_type": "stream",
          "name": "stdout",
          "text": [
            "📦 Metrics for /content/drive/MyDrive/prj/fine_tuned_model/class_model:\n",
            "Accuracy: 0.4975\n",
            "Precision: 0.3917\n",
            "Recall: 0.4975\n",
            "F1: 0.4127\n",
            "————————————————————————————————————————\n"
          ]
        },
        {
          "output_type": "stream",
          "name": "stderr",
          "text": [
            "/usr/local/lib/python3.11/dist-packages/sklearn/metrics/_classification.py:1565: UndefinedMetricWarning: Precision is ill-defined and being set to 0.0 in labels with no predicted samples. Use `zero_division` parameter to control this behavior.\n",
            "  _warn_prf(average, modifier, f\"{metric.capitalize()} is\", len(result))\n",
            "/usr/local/lib/python3.11/dist-packages/sklearn/metrics/_classification.py:1565: UndefinedMetricWarning: Recall is ill-defined and being set to 0.0 in labels with no true samples. Use `zero_division` parameter to control this behavior.\n",
            "  _warn_prf(average, modifier, f\"{metric.capitalize()} is\", len(result))\n"
          ]
        },
        {
          "output_type": "stream",
          "name": "stdout",
          "text": [
            "📦 Metrics for /content/drive/MyDrive/prj/fine_tuned_model/berturk_model:\n",
            "Accuracy: 0.0525\n",
            "Precision: 0.0259\n",
            "Recall: 0.0525\n",
            "F1: 0.0300\n",
            "————————————————————————————————————————\n"
          ]
        },
        {
          "output_type": "stream",
          "name": "stderr",
          "text": [
            "/usr/local/lib/python3.11/dist-packages/sklearn/metrics/_classification.py:1565: UndefinedMetricWarning: Precision is ill-defined and being set to 0.0 in labels with no predicted samples. Use `zero_division` parameter to control this behavior.\n",
            "  _warn_prf(average, modifier, f\"{metric.capitalize()} is\", len(result))\n"
          ]
        },
        {
          "output_type": "stream",
          "name": "stdout",
          "text": [
            "📦 Metrics for /content/drive/MyDrive/prj/fine_tuned_model/turna_model:\n",
            "Accuracy: 0.1105\n",
            "Precision: 0.0242\n",
            "Recall: 0.1105\n",
            "F1: 0.0361\n",
            "————————————————————————————————————————\n",
            "📦 Metrics for /content/drive/MyDrive/prj/fine_tuned_model/multilingual_model:\n",
            "Accuracy: 0.0750\n",
            "Precision: 0.0247\n",
            "Recall: 0.0750\n",
            "F1: 0.0365\n",
            "————————————————————————————————————————\n"
          ]
        },
        {
          "output_type": "stream",
          "name": "stderr",
          "text": [
            "/usr/local/lib/python3.11/dist-packages/sklearn/metrics/_classification.py:1565: UndefinedMetricWarning: Precision is ill-defined and being set to 0.0 in labels with no predicted samples. Use `zero_division` parameter to control this behavior.\n",
            "  _warn_prf(average, modifier, f\"{metric.capitalize()} is\", len(result))\n"
          ]
        }
      ]
    },
    {
      "cell_type": "code",
      "source": [
        "summ_df = pd.read_csv(\"/content/drive/MyDrive/prj/segmented_summ.csv\")\n",
        "summ_df = summ_df.dropna()"
      ],
      "metadata": {
        "id": "ay2vOxa4R1qA"
      },
      "execution_count": 7,
      "outputs": []
    },
    {
      "cell_type": "code",
      "source": [
        "from transformers import AutoTokenizer, AutoModelForSeq2SeqLM, AutoModelForSequenceClassification\n",
        "import torch\n",
        "\n",
        "summ_path = \"/content/drive/MyDrive/prj/fine_tuned_model/summarizer\"\n",
        "bert1_path = \"/content/drive/MyDrive/prj/fine_tuned_model/class_model\"\n",
        "\n",
        "device = torch.device(\"cuda\" if torch.cuda.is_available() else \"cpu\")\n",
        "\n",
        "summarizer_model = AutoModelForSeq2SeqLM.from_pretrained(summ_path).to(device)\n",
        "summarizer_tokenizer = AutoTokenizer.from_pretrained(summ_path)\n",
        "\n",
        "classifier_model = AutoModelForSequenceClassification.from_pretrained(bert1_path).to(device)\n",
        "classifier_tokenizer = AutoTokenizer.from_pretrained(bert1_path)"
      ],
      "metadata": {
        "id": "wgdyvbjx0F0c"
      },
      "execution_count": 10,
      "outputs": []
    },
    {
      "cell_type": "code",
      "source": [
        "def summarize(text):\n",
        "    inputs = summarizer_tokenizer(text, return_tensors=\"pt\", truncation=True, padding=True, max_length=512).to(device)\n",
        "    summary_ids = summarizer_model.generate(**inputs, max_length=128, num_beams=4)\n",
        "    return summarizer_tokenizer.decode(summary_ids[0], skip_special_tokens=True)\n",
        "\n",
        "def classify(text, label_encoder):\n",
        "    inputs = classifier_tokenizer(text, return_tensors=\"pt\", truncation=True, padding=True, max_length=512).to(device)\n",
        "    with torch.no_grad():\n",
        "        logits = classifier_model(**inputs).logits\n",
        "    predicted = torch.argmax(logits, dim=1).cpu().numpy()[0]\n",
        "    return label_encoder.inverse_transform([predicted])[0]"
      ],
      "metadata": {
        "id": "IBsufY-_TvPO"
      },
      "execution_count": 11,
      "outputs": []
    },
    {
      "cell_type": "code",
      "source": [
        "complaint = \"15 Mart 2025 tarihinde Adana Barajyolu Ziraat Bankası şube ATM'sinde 13 bin para yatırma işlemi gerçekleştirdim, ancak ATM para haznesine nakiti koyduğumda para haznesi kapandı ve kartımı geri iade etti, (normalde para sayıp ardından ekrana tutarın yansıması onayla kısmı gelmesi gerekti) yani paramı yuttu. Ortak ATM olduğu için işlemi QNB kartım ile gerçekleştirdim, Ziraat Bankası aradığımda kendi bankanı ara dedi. QNB bankası ise talep oluşturduklarını söyledi. Tam 15 gün geçti sonuçlanmadı, dönüş yapılmıyor dendi. Bu sefer Ziraat Barajyolu şubesine gittim tekrar, sert ve kırıcı üsluplarıyla karşılaştım. Bana kendi bankanın şube müdürlüğüne ulaşması lazım! Yazılı dilekçe ver o bankadan! Dedi. Zaman ayırıp tekrar gittim böyle bir işlem olmadığını işleyişinde bu şekilde olmadığını söylediler. Bugün 23. Gün alenen parama el konulduğunu düşünüyorum. Bu kadar işlek bir yerde her gün para sayılır fazla tutar bellidir. Bir talebe bu kadar süre dönülmemesi ve iş bilmemeleri şok edici. Gelişme olursa yazımı güncelleyeceğim\"\n",
        "\n",
        "summary = summarize(complaint)\n",
        "category = classify(complaint, label_encoder)\n",
        "\n",
        "prompt = f\"\"\"\n",
        "Kullanıcıdan gelen şikayet: \"{complaint}\"\n",
        "Şikayetin özeti: \"{summary}\"\n",
        "Şikayet türü: {category}\n",
        "\n",
        "Kullanıcıya Türkçe, kibar ve çözüm odaklı bir şekilde yanıt ver.\n",
        "\"\"\"\n"
      ],
      "metadata": {
        "id": "8mQYg8FJSuY-"
      },
      "execution_count": 14,
      "outputs": []
    },
    {
      "cell_type": "code",
      "source": [
        "!pip install groq"
      ],
      "metadata": {
        "colab": {
          "base_uri": "https://localhost:8080/"
        },
        "collapsed": true,
        "id": "Z9HyVmprUBwW",
        "outputId": "93757c06-e4ac-4510-938e-ebb7748ddcf0"
      },
      "execution_count": 20,
      "outputs": [
        {
          "output_type": "stream",
          "name": "stdout",
          "text": [
            "Collecting groq\n",
            "  Downloading groq-0.22.0-py3-none-any.whl.metadata (15 kB)\n",
            "Requirement already satisfied: anyio<5,>=3.5.0 in /usr/local/lib/python3.11/dist-packages (from groq) (4.9.0)\n",
            "Requirement already satisfied: distro<2,>=1.7.0 in /usr/local/lib/python3.11/dist-packages (from groq) (1.9.0)\n",
            "Requirement already satisfied: httpx<1,>=0.23.0 in /usr/local/lib/python3.11/dist-packages (from groq) (0.28.1)\n",
            "Requirement already satisfied: pydantic<3,>=1.9.0 in /usr/local/lib/python3.11/dist-packages (from groq) (2.11.1)\n",
            "Requirement already satisfied: sniffio in /usr/local/lib/python3.11/dist-packages (from groq) (1.3.1)\n",
            "Requirement already satisfied: typing-extensions<5,>=4.10 in /usr/local/lib/python3.11/dist-packages (from groq) (4.13.0)\n",
            "Requirement already satisfied: idna>=2.8 in /usr/local/lib/python3.11/dist-packages (from anyio<5,>=3.5.0->groq) (3.10)\n",
            "Requirement already satisfied: certifi in /usr/local/lib/python3.11/dist-packages (from httpx<1,>=0.23.0->groq) (2025.1.31)\n",
            "Requirement already satisfied: httpcore==1.* in /usr/local/lib/python3.11/dist-packages (from httpx<1,>=0.23.0->groq) (1.0.7)\n",
            "Requirement already satisfied: h11<0.15,>=0.13 in /usr/local/lib/python3.11/dist-packages (from httpcore==1.*->httpx<1,>=0.23.0->groq) (0.14.0)\n",
            "Requirement already satisfied: annotated-types>=0.6.0 in /usr/local/lib/python3.11/dist-packages (from pydantic<3,>=1.9.0->groq) (0.7.0)\n",
            "Requirement already satisfied: pydantic-core==2.33.0 in /usr/local/lib/python3.11/dist-packages (from pydantic<3,>=1.9.0->groq) (2.33.0)\n",
            "Requirement already satisfied: typing-inspection>=0.4.0 in /usr/local/lib/python3.11/dist-packages (from pydantic<3,>=1.9.0->groq) (0.4.0)\n",
            "Downloading groq-0.22.0-py3-none-any.whl (126 kB)\n",
            "\u001b[?25l   \u001b[90m━━━━━━━━━━━━━━━━━━━━━━━━━━━━━━━━━━━━━━━━\u001b[0m \u001b[32m0.0/126.7 kB\u001b[0m \u001b[31m?\u001b[0m eta \u001b[36m-:--:--\u001b[0m\r\u001b[2K   \u001b[90m━━━━━━━━━━━━━━━━━━━━━━━━━━━━━━━━━━━━━━━━\u001b[0m \u001b[32m126.7/126.7 kB\u001b[0m \u001b[31m3.7 MB/s\u001b[0m eta \u001b[36m0:00:00\u001b[0m\n",
            "\u001b[?25hInstalling collected packages: groq\n",
            "Successfully installed groq-0.22.0\n"
          ]
        }
      ]
    },
    {
      "cell_type": "code",
      "source": [
        "import os\n",
        "from groq import Groq\n",
        "os.environ[\"GROQ_API_KEY\"] = \"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\""
      ],
      "metadata": {
        "id": "nJ2gAX93W8dQ"
      },
      "execution_count": 36,
      "outputs": []
    },
    {
      "cell_type": "code",
      "source": [
        "app = Groq()"
      ],
      "metadata": {
        "id": "dMt7hkBDXOYP"
      },
      "execution_count": 37,
      "outputs": []
    },
    {
      "cell_type": "code",
      "source": [
        "client = Groq(\n",
        "    api_key=os.environ.get(\"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\"),\n",
        ")\n",
        "\n",
        "\n",
        "chat_completion = client.chat.completions.create(\n",
        "    messages=[\n",
        "        {\n",
        "            \"role\": \"user\",\n",
        "            \"content\": f\"{prompt}\",\n",
        "        }\n",
        "    ],\n",
        "    model=\"llama3-70b-8192\",\n",
        ")\n",
        "print(f\"complaint: {complaint} \\n\")\n",
        "print(f\"summary: {summary} \\n\")\n",
        "print(f\"category: {category} \\n\")\n",
        "\n",
        "print(f\"response: {chat_completion.choices[0].message.content}\")"
      ],
      "metadata": {
        "colab": {
          "base_uri": "https://localhost:8080/"
        },
        "id": "zfGdVuszW-mA",
        "outputId": "482bb4b6-120d-43fc-8568-edb199b6616c"
      },
      "execution_count": 44,
      "outputs": [
        {
          "output_type": "stream",
          "name": "stdout",
          "text": [
            "complaint: 15 Mart 2025 tarihinde Adana Barajyolu Ziraat Bankası şube ATM'sinde 13 bin para yatırma işlemi gerçekleştirdim, ancak ATM para haznesine nakiti koyduğumda para haznesi kapandı ve kartımı geri iade etti, (normalde para sayıp ardından ekrana tutarın yansıması onayla kısmı gelmesi gerekti) yani paramı yuttu. Ortak ATM olduğu için işlemi QNB kartım ile gerçekleştirdim, Ziraat Bankası aradığımda kendi bankanı ara dedi. QNB bankası ise talep oluşturduklarını söyledi. Tam 15 gün geçti sonuçlanmadı, dönüş yapılmıyor dendi. Bu sefer Ziraat Barajyolu şubesine gittim tekrar, sert ve kırıcı üsluplarıyla karşılaştım. Bana kendi bankanın şube müdürlüğüne ulaşması lazım! Yazılı dilekçe ver o bankadan! Dedi. Zaman ayırıp tekrar gittim böyle bir işlem olmadığını işleyişinde bu şekilde olmadığını söylediler. Bugün 23. Gün alenen parama el konulduğunu düşünüyorum. Bu kadar işlek bir yerde her gün para sayılır fazla tutar bellidir. Bir talebe bu kadar süre dönülmemesi ve iş bilmemeleri şok edici. Gelişme olursa yazımı güncelleyeceğim \n",
            "\n",
            "summary: Adana Barajyolu ziraat bankası şubesinde 13 bin para yatırma işlemi gerçekleştirdim ancak para haznesi kapandı ve kartımı geri iade etti \n",
            "\n",
            "category: hesabı yönetmek \n",
            "\n",
            "response: Merhaba,\n",
            "\n",
            "Üzülerek şikayetinizi okudum. 15 Mart 2025 tarihinde Adana Barajyolu Ziraat Bankası şubesinde 13 bin para yatırma işlemi gerçekleştirdiğiniz ancak ATM para haznesi kapandı ve kartınızı geri iade ettiğini öğrenmek üzücü.\n",
            "\n",
            "Öncelikle, böyle bir durum yaşamanız için özür dileriz. Bu tür durumlar asla yaşanmamalı.\n",
            "\n",
            "Anlayamadığımız şey, QNB bankasının talepte bulunduğunu ancak henüz sonuçlandığını duymamamızdır. Ayrıca, Ziraat Bankası şubesindeki personelin size sert ve kırıcı üslupla davranması da kabul edilemez.\n",
            "\n",
            "Sorununuza acilen çözüm bulmak için çalışıyoruz. Lütfen bize birkaç detayı daha sağlayın:\n",
            "\n",
            "* İşlem numarası veya referans numarası var mı?\n",
            "* QNB bankasından talepte bulunduğunuz tarihi hatırlıyor musunuz?\n",
            "* Ziraat Bankası şubesine gittiğinizde size verdiği yazılı dilekçe var mı?\n",
            "\n",
            "Bu bilgileri aldıktan sonra, durumunuzun çözümü için çalışacak olan ilgili ekibimize yönlendireceğiz. Size mümkün olan en kısa sürede dönüş yapacağız.\n",
            "\n",
            "Teşekkür ederiz, şikayetinizi bizimle paylaştığınız için. Size yakın zamanda çözüm bulma taahhüdüyoruz.\n",
            "\n",
            "İyi günler dileriz.\n"
          ]
        }
      ]
    }
  ]
}