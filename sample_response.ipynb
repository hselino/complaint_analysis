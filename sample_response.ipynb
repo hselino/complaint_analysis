{
  "nbformat": 4,
  "nbformat_minor": 0,
  "metadata": {
    "colab": {
      "provenance": [],
      "machine_shape": "hm",
      "gpuType": "A100",
      "authorship_tag": "ABX9TyP2/v07IqhHMpz3xkhjXsCM",
      "include_colab_link": true
    },
    "kernelspec": {
      "name": "python3",
      "display_name": "Python 3"
    },
    "language_info": {
      "name": "python"
    },
    "accelerator": "GPU"
  },
  "cells": [
    {
      "cell_type": "markdown",
      "metadata": {
        "id": "view-in-github",
        "colab_type": "text"
      },
      "source": [
        "<a href=\"https://colab.research.google.com/github/hselino/complaint_analysis/blob/main/sample_response.ipynb\" target=\"_parent\"><img src=\"https://colab.research.google.com/assets/colab-badge.svg\" alt=\"Open In Colab\"/></a>"
      ]
    },
    {
      "cell_type": "code",
      "execution_count": 1,
      "metadata": {
        "colab": {
          "base_uri": "https://localhost:8080/"
        },
        "id": "M9YyRHumpoB0",
        "outputId": "2365a441-fe1d-40dc-be44-2b2bf8cdef73"
      },
      "outputs": [
        {
          "output_type": "stream",
          "name": "stdout",
          "text": [
            "Mounted at /content/drive\n"
          ]
        }
      ],
      "source": [
        "from google.colab import drive\n",
        "drive.mount('/content/drive')"
      ]
    },
    {
      "cell_type": "code",
      "source": [
        "import torch\n",
        "import pandas as pd\n",
        "import numpy as np\n",
        "from transformers import AutoTokenizer, AutoModelForSequenceClassification\n",
        "from sklearn.model_selection import train_test_split\n",
        "from sklearn.preprocessing import LabelEncoder\n",
        "from sklearn.metrics import accuracy_score, precision_recall_fscore_support"
      ],
      "metadata": {
        "id": "CQNic1-cv1EN"
      },
      "execution_count": 2,
      "outputs": []
    },
    {
      "cell_type": "markdown",
      "source": [
        "# classification metrics"
      ],
      "metadata": {
        "id": "3-l6Pr9leli0"
      }
    },
    {
      "cell_type": "code",
      "source": [
        "# Load dataset\n",
        "df = pd.read_csv(\"/content/drive/MyDrive/prj/segmented_class.csv\")\n",
        "df = df.drop(columns=[\"Unnamed: 0\"], errors='ignore')\n",
        "\n",
        "# Drop any rows with missing data\n",
        "df = df.dropna()\n"
      ],
      "metadata": {
        "id": "he6bVVvlur5v"
      },
      "execution_count": 3,
      "outputs": []
    },
    {
      "cell_type": "code",
      "source": [
        "df.head()"
      ],
      "metadata": {
        "colab": {
          "base_uri": "https://localhost:8080/",
          "height": 206
        },
        "id": "UkdV3fH2vPRr",
        "outputId": "0f826a58-f393-496d-c989-8b566b89eb3f"
      },
      "execution_count": null,
      "outputs": [
        {
          "output_type": "execute_result",
          "data": {
            "text/plain": [
              "                                      complaint_text  \\\n",
              "0  kendi homepoint finansal olarak kısmen ol cidd...   \n",
              "1  equifax kredi raporum sahtekarlık uyarım var r...   \n",
              "2  son zaman aldatmaca işle para kimlik çal kişis...   \n",
              "3  dağ zirves financial tan kredi ön plan çık ilg...   \n",
              "4  arizona doğum tarih ss transunion llc tüket ci...   \n",
              "\n",
              "                              category  \n",
              "0         ödeme süreci sırasında sorun  \n",
              "1       raporunuzun uygunsuz kullanımı  \n",
              "2          borçlu borç alma denemeleri  \n",
              "3  borçlu servic iletişime geçilemiyor  \n",
              "4        raporunuzdaki yanlış bilgiler  "
            ],
            "text/html": [
              "\n",
              "  <div id=\"df-fc9c2303-a42d-423e-a2ae-dd358697653d\" class=\"colab-df-container\">\n",
              "    <div>\n",
              "<style scoped>\n",
              "    .dataframe tbody tr th:only-of-type {\n",
              "        vertical-align: middle;\n",
              "    }\n",
              "\n",
              "    .dataframe tbody tr th {\n",
              "        vertical-align: top;\n",
              "    }\n",
              "\n",
              "    .dataframe thead th {\n",
              "        text-align: right;\n",
              "    }\n",
              "</style>\n",
              "<table border=\"1\" class=\"dataframe\">\n",
              "  <thead>\n",
              "    <tr style=\"text-align: right;\">\n",
              "      <th></th>\n",
              "      <th>complaint_text</th>\n",
              "      <th>category</th>\n",
              "    </tr>\n",
              "  </thead>\n",
              "  <tbody>\n",
              "    <tr>\n",
              "      <th>0</th>\n",
              "      <td>kendi homepoint finansal olarak kısmen ol cidd...</td>\n",
              "      <td>ödeme süreci sırasında sorun</td>\n",
              "    </tr>\n",
              "    <tr>\n",
              "      <th>1</th>\n",
              "      <td>equifax kredi raporum sahtekarlık uyarım var r...</td>\n",
              "      <td>raporunuzun uygunsuz kullanımı</td>\n",
              "    </tr>\n",
              "    <tr>\n",
              "      <th>2</th>\n",
              "      <td>son zaman aldatmaca işle para kimlik çal kişis...</td>\n",
              "      <td>borçlu borç alma denemeleri</td>\n",
              "    </tr>\n",
              "    <tr>\n",
              "      <th>3</th>\n",
              "      <td>dağ zirves financial tan kredi ön plan çık ilg...</td>\n",
              "      <td>borçlu servic iletişime geçilemiyor</td>\n",
              "    </tr>\n",
              "    <tr>\n",
              "      <th>4</th>\n",
              "      <td>arizona doğum tarih ss transunion llc tüket ci...</td>\n",
              "      <td>raporunuzdaki yanlış bilgiler</td>\n",
              "    </tr>\n",
              "  </tbody>\n",
              "</table>\n",
              "</div>\n",
              "    <div class=\"colab-df-buttons\">\n",
              "\n",
              "  <div class=\"colab-df-container\">\n",
              "    <button class=\"colab-df-convert\" onclick=\"convertToInteractive('df-fc9c2303-a42d-423e-a2ae-dd358697653d')\"\n",
              "            title=\"Convert this dataframe to an interactive table.\"\n",
              "            style=\"display:none;\">\n",
              "\n",
              "  <svg xmlns=\"http://www.w3.org/2000/svg\" height=\"24px\" viewBox=\"0 -960 960 960\">\n",
              "    <path d=\"M120-120v-720h720v720H120Zm60-500h600v-160H180v160Zm220 220h160v-160H400v160Zm0 220h160v-160H400v160ZM180-400h160v-160H180v160Zm440 0h160v-160H620v160ZM180-180h160v-160H180v160Zm440 0h160v-160H620v160Z\"/>\n",
              "  </svg>\n",
              "    </button>\n",
              "\n",
              "  <style>\n",
              "    .colab-df-container {\n",
              "      display:flex;\n",
              "      gap: 12px;\n",
              "    }\n",
              "\n",
              "    .colab-df-convert {\n",
              "      background-color: #E8F0FE;\n",
              "      border: none;\n",
              "      border-radius: 50%;\n",
              "      cursor: pointer;\n",
              "      display: none;\n",
              "      fill: #1967D2;\n",
              "      height: 32px;\n",
              "      padding: 0 0 0 0;\n",
              "      width: 32px;\n",
              "    }\n",
              "\n",
              "    .colab-df-convert:hover {\n",
              "      background-color: #E2EBFA;\n",
              "      box-shadow: 0px 1px 2px rgba(60, 64, 67, 0.3), 0px 1px 3px 1px rgba(60, 64, 67, 0.15);\n",
              "      fill: #174EA6;\n",
              "    }\n",
              "\n",
              "    .colab-df-buttons div {\n",
              "      margin-bottom: 4px;\n",
              "    }\n",
              "\n",
              "    [theme=dark] .colab-df-convert {\n",
              "      background-color: #3B4455;\n",
              "      fill: #D2E3FC;\n",
              "    }\n",
              "\n",
              "    [theme=dark] .colab-df-convert:hover {\n",
              "      background-color: #434B5C;\n",
              "      box-shadow: 0px 1px 3px 1px rgba(0, 0, 0, 0.15);\n",
              "      filter: drop-shadow(0px 1px 2px rgba(0, 0, 0, 0.3));\n",
              "      fill: #FFFFFF;\n",
              "    }\n",
              "  </style>\n",
              "\n",
              "    <script>\n",
              "      const buttonEl =\n",
              "        document.querySelector('#df-fc9c2303-a42d-423e-a2ae-dd358697653d button.colab-df-convert');\n",
              "      buttonEl.style.display =\n",
              "        google.colab.kernel.accessAllowed ? 'block' : 'none';\n",
              "\n",
              "      async function convertToInteractive(key) {\n",
              "        const element = document.querySelector('#df-fc9c2303-a42d-423e-a2ae-dd358697653d');\n",
              "        const dataTable =\n",
              "          await google.colab.kernel.invokeFunction('convertToInteractive',\n",
              "                                                    [key], {});\n",
              "        if (!dataTable) return;\n",
              "\n",
              "        const docLinkHtml = 'Like what you see? Visit the ' +\n",
              "          '<a target=\"_blank\" href=https://colab.research.google.com/notebooks/data_table.ipynb>data table notebook</a>'\n",
              "          + ' to learn more about interactive tables.';\n",
              "        element.innerHTML = '';\n",
              "        dataTable['output_type'] = 'display_data';\n",
              "        await google.colab.output.renderOutput(dataTable, element);\n",
              "        const docLink = document.createElement('div');\n",
              "        docLink.innerHTML = docLinkHtml;\n",
              "        element.appendChild(docLink);\n",
              "      }\n",
              "    </script>\n",
              "  </div>\n",
              "\n",
              "\n",
              "<div id=\"df-bb5c3140-759c-41a5-9593-044370fe82a2\">\n",
              "  <button class=\"colab-df-quickchart\" onclick=\"quickchart('df-bb5c3140-759c-41a5-9593-044370fe82a2')\"\n",
              "            title=\"Suggest charts\"\n",
              "            style=\"display:none;\">\n",
              "\n",
              "<svg xmlns=\"http://www.w3.org/2000/svg\" height=\"24px\"viewBox=\"0 0 24 24\"\n",
              "     width=\"24px\">\n",
              "    <g>\n",
              "        <path d=\"M19 3H5c-1.1 0-2 .9-2 2v14c0 1.1.9 2 2 2h14c1.1 0 2-.9 2-2V5c0-1.1-.9-2-2-2zM9 17H7v-7h2v7zm4 0h-2V7h2v10zm4 0h-2v-4h2v4z\"/>\n",
              "    </g>\n",
              "</svg>\n",
              "  </button>\n",
              "\n",
              "<style>\n",
              "  .colab-df-quickchart {\n",
              "      --bg-color: #E8F0FE;\n",
              "      --fill-color: #1967D2;\n",
              "      --hover-bg-color: #E2EBFA;\n",
              "      --hover-fill-color: #174EA6;\n",
              "      --disabled-fill-color: #AAA;\n",
              "      --disabled-bg-color: #DDD;\n",
              "  }\n",
              "\n",
              "  [theme=dark] .colab-df-quickchart {\n",
              "      --bg-color: #3B4455;\n",
              "      --fill-color: #D2E3FC;\n",
              "      --hover-bg-color: #434B5C;\n",
              "      --hover-fill-color: #FFFFFF;\n",
              "      --disabled-bg-color: #3B4455;\n",
              "      --disabled-fill-color: #666;\n",
              "  }\n",
              "\n",
              "  .colab-df-quickchart {\n",
              "    background-color: var(--bg-color);\n",
              "    border: none;\n",
              "    border-radius: 50%;\n",
              "    cursor: pointer;\n",
              "    display: none;\n",
              "    fill: var(--fill-color);\n",
              "    height: 32px;\n",
              "    padding: 0;\n",
              "    width: 32px;\n",
              "  }\n",
              "\n",
              "  .colab-df-quickchart:hover {\n",
              "    background-color: var(--hover-bg-color);\n",
              "    box-shadow: 0 1px 2px rgba(60, 64, 67, 0.3), 0 1px 3px 1px rgba(60, 64, 67, 0.15);\n",
              "    fill: var(--button-hover-fill-color);\n",
              "  }\n",
              "\n",
              "  .colab-df-quickchart-complete:disabled,\n",
              "  .colab-df-quickchart-complete:disabled:hover {\n",
              "    background-color: var(--disabled-bg-color);\n",
              "    fill: var(--disabled-fill-color);\n",
              "    box-shadow: none;\n",
              "  }\n",
              "\n",
              "  .colab-df-spinner {\n",
              "    border: 2px solid var(--fill-color);\n",
              "    border-color: transparent;\n",
              "    border-bottom-color: var(--fill-color);\n",
              "    animation:\n",
              "      spin 1s steps(1) infinite;\n",
              "  }\n",
              "\n",
              "  @keyframes spin {\n",
              "    0% {\n",
              "      border-color: transparent;\n",
              "      border-bottom-color: var(--fill-color);\n",
              "      border-left-color: var(--fill-color);\n",
              "    }\n",
              "    20% {\n",
              "      border-color: transparent;\n",
              "      border-left-color: var(--fill-color);\n",
              "      border-top-color: var(--fill-color);\n",
              "    }\n",
              "    30% {\n",
              "      border-color: transparent;\n",
              "      border-left-color: var(--fill-color);\n",
              "      border-top-color: var(--fill-color);\n",
              "      border-right-color: var(--fill-color);\n",
              "    }\n",
              "    40% {\n",
              "      border-color: transparent;\n",
              "      border-right-color: var(--fill-color);\n",
              "      border-top-color: var(--fill-color);\n",
              "    }\n",
              "    60% {\n",
              "      border-color: transparent;\n",
              "      border-right-color: var(--fill-color);\n",
              "    }\n",
              "    80% {\n",
              "      border-color: transparent;\n",
              "      border-right-color: var(--fill-color);\n",
              "      border-bottom-color: var(--fill-color);\n",
              "    }\n",
              "    90% {\n",
              "      border-color: transparent;\n",
              "      border-bottom-color: var(--fill-color);\n",
              "    }\n",
              "  }\n",
              "</style>\n",
              "\n",
              "  <script>\n",
              "    async function quickchart(key) {\n",
              "      const quickchartButtonEl =\n",
              "        document.querySelector('#' + key + ' button');\n",
              "      quickchartButtonEl.disabled = true;  // To prevent multiple clicks.\n",
              "      quickchartButtonEl.classList.add('colab-df-spinner');\n",
              "      try {\n",
              "        const charts = await google.colab.kernel.invokeFunction(\n",
              "            'suggestCharts', [key], {});\n",
              "      } catch (error) {\n",
              "        console.error('Error during call to suggestCharts:', error);\n",
              "      }\n",
              "      quickchartButtonEl.classList.remove('colab-df-spinner');\n",
              "      quickchartButtonEl.classList.add('colab-df-quickchart-complete');\n",
              "    }\n",
              "    (() => {\n",
              "      let quickchartButtonEl =\n",
              "        document.querySelector('#df-bb5c3140-759c-41a5-9593-044370fe82a2 button');\n",
              "      quickchartButtonEl.style.display =\n",
              "        google.colab.kernel.accessAllowed ? 'block' : 'none';\n",
              "    })();\n",
              "  </script>\n",
              "</div>\n",
              "\n",
              "    </div>\n",
              "  </div>\n"
            ],
            "application/vnd.google.colaboratory.intrinsic+json": {
              "type": "dataframe",
              "variable_name": "df",
              "summary": "{\n  \"name\": \"df\",\n  \"rows\": 9999,\n  \"fields\": [\n    {\n      \"column\": \"complaint_text\",\n      \"properties\": {\n        \"dtype\": \"string\",\n        \"num_unique_values\": 9964,\n        \"samples\": [\n          \"\\u00f6\\u011fe g\\u00fcn kredi raporum fark et y\\u00fcz california check i cashing i \\u00e7a\\u011f\\u0131r kimlik h\\u0131rs\\u0131zl\\u0131k kurban ol gerek inan bil o hi\\u00e7 ba\\u015fvur kredi al hesap zaten \\u00fc\\u00e7\\u00fcnc\\u00fc taraf bor\\u00e7 tahsildar ajans sat bil\",\n          \"nc 2022 sevgili transunion i t\\u00fcket ci do\\u011fal ki\\u015fi sahip ol kongr taraf adil kredi raporlama yasa kapsam kongr taraf koru t\\u00fcm hak fark i fcra a\\u015fa\\u011f\\u0131 ki hesap liste federal olarak koru t\\u00fcket ci hak gizlilik gizlilik usc 1681 b\\u00f6l\\u00fcm 602 t\\u00fcket acenti 2 ye sahip ol sa\\u011fla yaz\\u0131l\\u0131 talimat ol hesap derhal sil ba\\u015f 100000 tut iste s\\u00fcrece 2 hesap ad hesap 15 usc 1681 b\\u00f6l\\u00fcm 602 devlet gizlilik hak sah usc 1681 b\\u00f6l\\u00fcm 604 a b\\u00f6l\\u00fcm 2 ayr\\u0131ca t\\u00fcket ci raporlama ajans yaz\\u0131l\\u0131 talimat ol hesap ver 4 hesap ad hesap numara 15 usc 1681 b\\u00f6l\\u00fcm 602 a devlet gizlilik hak 15 usc 1681 b\\u00f6l\\u00fcm 604 ayr\\u0131ca t\\u00fcket ci raporlama ajans yaz\\u0131l\\u0131 talimat ol hesap sun 15 usc 1681 b\\u00f6l\\u00fcm 602 k\\u0131s\\u0131m 60 hesap ver 15 usc b\\u00f6l\\u00fcm 60 15 usc b\\u00f6l\\u00fcm 602 i usc 15 usc i ol hesap sun 16 b\\u00f6l\\u00fcm 2 ayr\\u0131ca t\\u00fcket ci raporlama ajans yaz\\u0131l\\u0131 talimat ol hesap sun belir i 6 hesap ad dpt hesap numara 15 usc 1681 b\\u00f6l\\u00fcm 602 a devlet i lgi li 15 usc 1681 b\\u00f6l\\u00fcm 604 a b\\u00f6l\\u00fcm 2 ayr\\u0131ca t\\u00fcket ci raporlama ajans yaz\\u0131l\\u0131 talimat ol hesap ver 19.A\\u011fu hesap ad dpt hesap numara 15 usc 1681 b\\u00f6l\\u00fcm 60 usc is 2 ayr\\u0131ca t\\u00fcket ci raporlama ajans yaz\\u0131l\\u0131 talimat ol hesap ver belir\",\n          \"merhaba ben ad\\u0131m g\\u00f6nder iddia et birka\\u00e7 ay ge\\u00e7 banka hesab\\u0131m yat\\u0131r vergi iade eri\\u015f gerek beri hesap numaram her vergi iadem al beri bankam fon kullan kullan bu kullan bu kullan bu ben \\u015fey ben yeni \\u015fey olarak do\\u011frul gibi do\\u011frula ihtiya\\u00e7 duy ben do\\u011frula gerekli ol s\\u00f6yle asla umur gibi asla cevap yok ya sadece na fon tut devam et\"\n        ],\n        \"semantic_type\": \"\",\n        \"description\": \"\"\n      }\n    },\n    {\n      \"column\": \"category\",\n      \"properties\": {\n        \"dtype\": \"category\",\n        \"num_unique_values\": 138,\n        \"samples\": [\n          \"beklenmedik di\\u011fer \\u00fccretler\",\n          \"ba\\u015fvurmad\\u0131\\u011f\\u0131n\\u0131z kredi ald\\u0131\",\n          \"para vaat edildi\\u011finde mevcut de\\u011fildi\"\n        ],\n        \"semantic_type\": \"\",\n        \"description\": \"\"\n      }\n    }\n  ]\n}"
            }
          },
          "metadata": {},
          "execution_count": 4
        }
      ]
    },
    {
      "cell_type": "code",
      "source": [
        "label_encoder = LabelEncoder()\n",
        "df['encoded_label'] = label_encoder.fit_transform(df['category'])\n"
      ],
      "metadata": {
        "id": "XskG2OSUvNP6"
      },
      "execution_count": 4,
      "outputs": []
    },
    {
      "cell_type": "code",
      "source": [
        "train_texts, val_texts, train_labels, val_labels = train_test_split(\n",
        "    df['complaint_text'].tolist(),\n",
        "    df['encoded_label'].tolist(),\n",
        "    test_size=0.2,\n",
        "    random_state=42\n",
        ")"
      ],
      "metadata": {
        "id": "kqP5Kq5BvWRv"
      },
      "execution_count": 5,
      "outputs": []
    },
    {
      "cell_type": "code",
      "source": [
        "bert1_path = \"/content/drive/MyDrive/prj/fine_tuned_model/class_model\"\n",
        "bert2_path = \"/content/drive/MyDrive/prj/fine_tuned_model/berturk_model\"\n",
        "turna_path = \"/content/drive/MyDrive/prj/fine_tuned_model/turna_model\"\n",
        "multi_path = \"/content/drive/MyDrive/prj/fine_tuned_model/multilingual_model\""
      ],
      "metadata": {
        "id": "CawC_WLLrWjF"
      },
      "execution_count": 6,
      "outputs": []
    },
    {
      "cell_type": "code",
      "source": [
        "def evaluate_model(model_path, val_texts, val_labels):\n",
        "    from transformers import AutoModelForSequenceClassification, AutoTokenizer\n",
        "    import numpy as np\n",
        "    from sklearn.metrics import accuracy_score, precision_recall_fscore_support\n",
        "\n",
        "    device = torch.device(\"cuda\" if torch.cuda.is_available() else \"cpu\")\n",
        "\n",
        "    # Load model and tokenizer from the same path\n",
        "    model = AutoModelForSequenceClassification.from_pretrained(model_path).to(device)\n",
        "    tokenizer = AutoTokenizer.from_pretrained(model_path)\n",
        "\n",
        "    # Tokenize inputs\n",
        "    inputs = tokenizer(val_texts, truncation=True, padding=True, max_length=128, return_tensors=\"pt\")\n",
        "    inputs = {k: v.to(device) for k, v in inputs.items()}\n",
        "\n",
        "    with torch.no_grad():\n",
        "        outputs = model(**inputs)\n",
        "        probs = torch.nn.functional.softmax(outputs.logits, dim=-1)\n",
        "        preds = torch.argmax(probs, dim=1).cpu().numpy()\n",
        "\n",
        "    true = np.array(val_labels)\n",
        "    acc = accuracy_score(true, preds)\n",
        "    precision, recall, f1, _ = precision_recall_fscore_support(true, preds, average='weighted')\n",
        "\n",
        "    return {\n",
        "        \"accuracy\": acc,\n",
        "        \"precision\": precision,\n",
        "        \"recall\": recall,\n",
        "        \"f1\": f1\n",
        "    }\n"
      ],
      "metadata": {
        "id": "ZvBF82FnvbVx"
      },
      "execution_count": 7,
      "outputs": []
    },
    {
      "cell_type": "code",
      "source": [
        "model_paths = [bert1_path, bert2_path, turna_path, multi_path]\n",
        "\n",
        "for path in model_paths:\n",
        "    metrics = evaluate_model(path, val_texts, val_labels)\n",
        "    print(f\"📦 Metrics for {path}:\")\n",
        "    for k, v in metrics.items():\n",
        "        print(f\"{k.capitalize()}: {v:.4f}\")\n",
        "    print(\"—\" * 40)\n"
      ],
      "metadata": {
        "colab": {
          "base_uri": "https://localhost:8080/"
        },
        "id": "gMx2nVhhvcVL",
        "outputId": "8cff6e52-c455-4a0b-e689-118fd393a712"
      },
      "execution_count": null,
      "outputs": [
        {
          "output_type": "stream",
          "name": "stderr",
          "text": [
            "/usr/local/lib/python3.11/dist-packages/sklearn/metrics/_classification.py:1565: UndefinedMetricWarning: Precision is ill-defined and being set to 0.0 in labels with no predicted samples. Use `zero_division` parameter to control this behavior.\n",
            "  _warn_prf(average, modifier, f\"{metric.capitalize()} is\", len(result))\n"
          ]
        },
        {
          "output_type": "stream",
          "name": "stdout",
          "text": [
            "📦 Metrics for /content/drive/MyDrive/prj/fine_tuned_model/class_model:\n",
            "Accuracy: 0.4975\n",
            "Precision: 0.3917\n",
            "Recall: 0.4975\n",
            "F1: 0.4127\n",
            "————————————————————————————————————————\n"
          ]
        },
        {
          "output_type": "stream",
          "name": "stderr",
          "text": [
            "/usr/local/lib/python3.11/dist-packages/sklearn/metrics/_classification.py:1565: UndefinedMetricWarning: Precision is ill-defined and being set to 0.0 in labels with no predicted samples. Use `zero_division` parameter to control this behavior.\n",
            "  _warn_prf(average, modifier, f\"{metric.capitalize()} is\", len(result))\n",
            "/usr/local/lib/python3.11/dist-packages/sklearn/metrics/_classification.py:1565: UndefinedMetricWarning: Recall is ill-defined and being set to 0.0 in labels with no true samples. Use `zero_division` parameter to control this behavior.\n",
            "  _warn_prf(average, modifier, f\"{metric.capitalize()} is\", len(result))\n"
          ]
        },
        {
          "output_type": "stream",
          "name": "stdout",
          "text": [
            "📦 Metrics for /content/drive/MyDrive/prj/fine_tuned_model/berturk_model:\n",
            "Accuracy: 0.0525\n",
            "Precision: 0.0259\n",
            "Recall: 0.0525\n",
            "F1: 0.0300\n",
            "————————————————————————————————————————\n"
          ]
        },
        {
          "output_type": "stream",
          "name": "stderr",
          "text": [
            "/usr/local/lib/python3.11/dist-packages/sklearn/metrics/_classification.py:1565: UndefinedMetricWarning: Precision is ill-defined and being set to 0.0 in labels with no predicted samples. Use `zero_division` parameter to control this behavior.\n",
            "  _warn_prf(average, modifier, f\"{metric.capitalize()} is\", len(result))\n"
          ]
        },
        {
          "output_type": "stream",
          "name": "stdout",
          "text": [
            "📦 Metrics for /content/drive/MyDrive/prj/fine_tuned_model/turna_model:\n",
            "Accuracy: 0.1105\n",
            "Precision: 0.0242\n",
            "Recall: 0.1105\n",
            "F1: 0.0361\n",
            "————————————————————————————————————————\n",
            "📦 Metrics for /content/drive/MyDrive/prj/fine_tuned_model/multilingual_model:\n",
            "Accuracy: 0.0750\n",
            "Precision: 0.0247\n",
            "Recall: 0.0750\n",
            "F1: 0.0365\n",
            "————————————————————————————————————————\n"
          ]
        },
        {
          "output_type": "stream",
          "name": "stderr",
          "text": [
            "/usr/local/lib/python3.11/dist-packages/sklearn/metrics/_classification.py:1565: UndefinedMetricWarning: Precision is ill-defined and being set to 0.0 in labels with no predicted samples. Use `zero_division` parameter to control this behavior.\n",
            "  _warn_prf(average, modifier, f\"{metric.capitalize()} is\", len(result))\n"
          ]
        }
      ]
    },
    {
      "cell_type": "code",
      "source": [],
      "metadata": {
        "id": "HOT2Kow1cWUE"
      },
      "execution_count": null,
      "outputs": []
    },
    {
      "cell_type": "markdown",
      "source": [
        "# rouge score"
      ],
      "metadata": {
        "id": "tJWBEYkTcZUu"
      }
    },
    {
      "cell_type": "code",
      "source": [
        "!pip install evaluate\n",
        "!pip install rouge_score"
      ],
      "metadata": {
        "colab": {
          "base_uri": "https://localhost:8080/"
        },
        "collapsed": true,
        "id": "0TwQ86QnbrQO",
        "outputId": "b9cbd630-9ecf-4fad-c466-c49d3f0ef46e"
      },
      "execution_count": null,
      "outputs": [
        {
          "output_type": "stream",
          "name": "stdout",
          "text": [
            "Requirement already satisfied: evaluate in /usr/local/lib/python3.11/dist-packages (0.4.3)\n",
            "Requirement already satisfied: datasets>=2.0.0 in /usr/local/lib/python3.11/dist-packages (from evaluate) (3.5.0)\n",
            "Requirement already satisfied: numpy>=1.17 in /usr/local/lib/python3.11/dist-packages (from evaluate) (2.0.2)\n",
            "Requirement already satisfied: dill in /usr/local/lib/python3.11/dist-packages (from evaluate) (0.3.8)\n",
            "Requirement already satisfied: pandas in /usr/local/lib/python3.11/dist-packages (from evaluate) (2.2.2)\n",
            "Requirement already satisfied: requests>=2.19.0 in /usr/local/lib/python3.11/dist-packages (from evaluate) (2.32.3)\n",
            "Requirement already satisfied: tqdm>=4.62.1 in /usr/local/lib/python3.11/dist-packages (from evaluate) (4.67.1)\n",
            "Requirement already satisfied: xxhash in /usr/local/lib/python3.11/dist-packages (from evaluate) (3.5.0)\n",
            "Requirement already satisfied: multiprocess in /usr/local/lib/python3.11/dist-packages (from evaluate) (0.70.16)\n",
            "Requirement already satisfied: fsspec>=2021.05.0 in /usr/local/lib/python3.11/dist-packages (from fsspec[http]>=2021.05.0->evaluate) (2024.12.0)\n",
            "Requirement already satisfied: huggingface-hub>=0.7.0 in /usr/local/lib/python3.11/dist-packages (from evaluate) (0.30.1)\n",
            "Requirement already satisfied: packaging in /usr/local/lib/python3.11/dist-packages (from evaluate) (24.2)\n",
            "Requirement already satisfied: filelock in /usr/local/lib/python3.11/dist-packages (from datasets>=2.0.0->evaluate) (3.18.0)\n",
            "Requirement already satisfied: pyarrow>=15.0.0 in /usr/local/lib/python3.11/dist-packages (from datasets>=2.0.0->evaluate) (18.1.0)\n",
            "Requirement already satisfied: aiohttp in /usr/local/lib/python3.11/dist-packages (from datasets>=2.0.0->evaluate) (3.11.15)\n",
            "Requirement already satisfied: pyyaml>=5.1 in /usr/local/lib/python3.11/dist-packages (from datasets>=2.0.0->evaluate) (6.0.2)\n",
            "Requirement already satisfied: typing-extensions>=3.7.4.3 in /usr/local/lib/python3.11/dist-packages (from huggingface-hub>=0.7.0->evaluate) (4.13.0)\n",
            "Requirement already satisfied: charset-normalizer<4,>=2 in /usr/local/lib/python3.11/dist-packages (from requests>=2.19.0->evaluate) (3.4.1)\n",
            "Requirement already satisfied: idna<4,>=2.5 in /usr/local/lib/python3.11/dist-packages (from requests>=2.19.0->evaluate) (3.10)\n",
            "Requirement already satisfied: urllib3<3,>=1.21.1 in /usr/local/lib/python3.11/dist-packages (from requests>=2.19.0->evaluate) (2.3.0)\n",
            "Requirement already satisfied: certifi>=2017.4.17 in /usr/local/lib/python3.11/dist-packages (from requests>=2.19.0->evaluate) (2025.1.31)\n",
            "Requirement already satisfied: python-dateutil>=2.8.2 in /usr/local/lib/python3.11/dist-packages (from pandas->evaluate) (2.8.2)\n",
            "Requirement already satisfied: pytz>=2020.1 in /usr/local/lib/python3.11/dist-packages (from pandas->evaluate) (2025.2)\n",
            "Requirement already satisfied: tzdata>=2022.7 in /usr/local/lib/python3.11/dist-packages (from pandas->evaluate) (2025.2)\n",
            "Requirement already satisfied: aiohappyeyeballs>=2.3.0 in /usr/local/lib/python3.11/dist-packages (from aiohttp->datasets>=2.0.0->evaluate) (2.6.1)\n",
            "Requirement already satisfied: aiosignal>=1.1.2 in /usr/local/lib/python3.11/dist-packages (from aiohttp->datasets>=2.0.0->evaluate) (1.3.2)\n",
            "Requirement already satisfied: attrs>=17.3.0 in /usr/local/lib/python3.11/dist-packages (from aiohttp->datasets>=2.0.0->evaluate) (25.3.0)\n",
            "Requirement already satisfied: frozenlist>=1.1.1 in /usr/local/lib/python3.11/dist-packages (from aiohttp->datasets>=2.0.0->evaluate) (1.5.0)\n",
            "Requirement already satisfied: multidict<7.0,>=4.5 in /usr/local/lib/python3.11/dist-packages (from aiohttp->datasets>=2.0.0->evaluate) (6.3.1)\n",
            "Requirement already satisfied: propcache>=0.2.0 in /usr/local/lib/python3.11/dist-packages (from aiohttp->datasets>=2.0.0->evaluate) (0.3.1)\n",
            "Requirement already satisfied: yarl<2.0,>=1.17.0 in /usr/local/lib/python3.11/dist-packages (from aiohttp->datasets>=2.0.0->evaluate) (1.18.3)\n",
            "Requirement already satisfied: six>=1.5 in /usr/local/lib/python3.11/dist-packages (from python-dateutil>=2.8.2->pandas->evaluate) (1.17.0)\n",
            "Collecting rouge_score\n",
            "  Downloading rouge_score-0.1.2.tar.gz (17 kB)\n",
            "  Preparing metadata (setup.py) ... \u001b[?25l\u001b[?25hdone\n",
            "Requirement already satisfied: absl-py in /usr/local/lib/python3.11/dist-packages (from rouge_score) (1.4.0)\n",
            "Requirement already satisfied: nltk in /usr/local/lib/python3.11/dist-packages (from rouge_score) (3.9.1)\n",
            "Requirement already satisfied: numpy in /usr/local/lib/python3.11/dist-packages (from rouge_score) (2.0.2)\n",
            "Requirement already satisfied: six>=1.14.0 in /usr/local/lib/python3.11/dist-packages (from rouge_score) (1.17.0)\n",
            "Requirement already satisfied: click in /usr/local/lib/python3.11/dist-packages (from nltk->rouge_score) (8.1.8)\n",
            "Requirement already satisfied: joblib in /usr/local/lib/python3.11/dist-packages (from nltk->rouge_score) (1.4.2)\n",
            "Requirement already satisfied: regex>=2021.8.3 in /usr/local/lib/python3.11/dist-packages (from nltk->rouge_score) (2024.11.6)\n",
            "Requirement already satisfied: tqdm in /usr/local/lib/python3.11/dist-packages (from nltk->rouge_score) (4.67.1)\n",
            "Building wheels for collected packages: rouge_score\n",
            "  Building wheel for rouge_score (setup.py) ... \u001b[?25l\u001b[?25hdone\n",
            "  Created wheel for rouge_score: filename=rouge_score-0.1.2-py3-none-any.whl size=24934 sha256=af6b87b3153a546d35f09a78ee444282f03f893deea5302fa0f4276f4b1893bb\n",
            "  Stored in directory: /root/.cache/pip/wheels/1e/19/43/8a442dc83660ca25e163e1bd1f89919284ab0d0c1475475148\n",
            "Successfully built rouge_score\n",
            "Installing collected packages: rouge_score\n",
            "Successfully installed rouge_score-0.1.2\n"
          ]
        }
      ]
    },
    {
      "cell_type": "code",
      "source": [
        "summ_df = pd.read_csv(\"/content/drive/MyDrive/prj/segmented_summ.csv\")\n",
        "summ_df = summ_df.dropna()\n",
        "texts = summ_df['content'].tolist()\n",
        "summaries = summ_df['abstract'].tolist()"
      ],
      "metadata": {
        "id": "ay2vOxa4R1qA"
      },
      "execution_count": 8,
      "outputs": []
    },
    {
      "cell_type": "code",
      "source": [
        "summ_df.head()"
      ],
      "metadata": {
        "colab": {
          "base_uri": "https://localhost:8080/",
          "height": 206
        },
        "id": "s-8dB1EXcgKI",
        "outputId": "39f5d637-2df2-4d37-b0c8-3b904239a8da"
      },
      "execution_count": null,
      "outputs": [
        {
          "output_type": "execute_result",
          "data": {
            "text/plain": [
              "                                            abstract  \\\n",
              "0  şarkıcı tuğba özerk annesine canlı yayında yön...   \n",
              "1  mhp lideri bahçeli cumhurbaşkanlığı hükümet si...   \n",
              "2  pentagon abd askerlerinin suriyede kürt birlik...   \n",
              "3  galatasarayda forvet transferinde halen somut ...   \n",
              "4  fenerbahçe teknik direktörü christoph daum isp...   \n",
              "\n",
              "                                             content  \\\n",
              "0  tuğba özerk duy kal program anne günay kapani ...   \n",
              "1  mhp genel başkan bahçe li manisa selendi ilçe ...   \n",
              "2  rusya suriye hava müdahale başla ardından abd ...   \n",
              "3  galatasa forvet transfer halen somut adım at s...   \n",
              "4  ispanya marca gazete yayımla demecin daum güiz...   \n",
              "\n",
              "                                               title  \n",
              "0   tuğba özerkten deniz akkayaya 100 bin tllik dava  \n",
              "1  bahçeli cepheleşme keskinleşirse mhp buna tepk...  \n",
              "2                              ypg ve abd omuz omuza  \n",
              "3                                   neredesin forvet  \n",
              "4                                  daum guiza mutsuz  "
            ],
            "text/html": [
              "\n",
              "  <div id=\"df-3d910255-6893-4322-be58-c42494b883a3\" class=\"colab-df-container\">\n",
              "    <div>\n",
              "<style scoped>\n",
              "    .dataframe tbody tr th:only-of-type {\n",
              "        vertical-align: middle;\n",
              "    }\n",
              "\n",
              "    .dataframe tbody tr th {\n",
              "        vertical-align: top;\n",
              "    }\n",
              "\n",
              "    .dataframe thead th {\n",
              "        text-align: right;\n",
              "    }\n",
              "</style>\n",
              "<table border=\"1\" class=\"dataframe\">\n",
              "  <thead>\n",
              "    <tr style=\"text-align: right;\">\n",
              "      <th></th>\n",
              "      <th>abstract</th>\n",
              "      <th>content</th>\n",
              "      <th>title</th>\n",
              "    </tr>\n",
              "  </thead>\n",
              "  <tbody>\n",
              "    <tr>\n",
              "      <th>0</th>\n",
              "      <td>şarkıcı tuğba özerk annesine canlı yayında yön...</td>\n",
              "      <td>tuğba özerk duy kal program anne günay kapani ...</td>\n",
              "      <td>tuğba özerkten deniz akkayaya 100 bin tllik dava</td>\n",
              "    </tr>\n",
              "    <tr>\n",
              "      <th>1</th>\n",
              "      <td>mhp lideri bahçeli cumhurbaşkanlığı hükümet si...</td>\n",
              "      <td>mhp genel başkan bahçe li manisa selendi ilçe ...</td>\n",
              "      <td>bahçeli cepheleşme keskinleşirse mhp buna tepk...</td>\n",
              "    </tr>\n",
              "    <tr>\n",
              "      <th>2</th>\n",
              "      <td>pentagon abd askerlerinin suriyede kürt birlik...</td>\n",
              "      <td>rusya suriye hava müdahale başla ardından abd ...</td>\n",
              "      <td>ypg ve abd omuz omuza</td>\n",
              "    </tr>\n",
              "    <tr>\n",
              "      <th>3</th>\n",
              "      <td>galatasarayda forvet transferinde halen somut ...</td>\n",
              "      <td>galatasa forvet transfer halen somut adım at s...</td>\n",
              "      <td>neredesin forvet</td>\n",
              "    </tr>\n",
              "    <tr>\n",
              "      <th>4</th>\n",
              "      <td>fenerbahçe teknik direktörü christoph daum isp...</td>\n",
              "      <td>ispanya marca gazete yayımla demecin daum güiz...</td>\n",
              "      <td>daum guiza mutsuz</td>\n",
              "    </tr>\n",
              "  </tbody>\n",
              "</table>\n",
              "</div>\n",
              "    <div class=\"colab-df-buttons\">\n",
              "\n",
              "  <div class=\"colab-df-container\">\n",
              "    <button class=\"colab-df-convert\" onclick=\"convertToInteractive('df-3d910255-6893-4322-be58-c42494b883a3')\"\n",
              "            title=\"Convert this dataframe to an interactive table.\"\n",
              "            style=\"display:none;\">\n",
              "\n",
              "  <svg xmlns=\"http://www.w3.org/2000/svg\" height=\"24px\" viewBox=\"0 -960 960 960\">\n",
              "    <path d=\"M120-120v-720h720v720H120Zm60-500h600v-160H180v160Zm220 220h160v-160H400v160Zm0 220h160v-160H400v160ZM180-400h160v-160H180v160Zm440 0h160v-160H620v160ZM180-180h160v-160H180v160Zm440 0h160v-160H620v160Z\"/>\n",
              "  </svg>\n",
              "    </button>\n",
              "\n",
              "  <style>\n",
              "    .colab-df-container {\n",
              "      display:flex;\n",
              "      gap: 12px;\n",
              "    }\n",
              "\n",
              "    .colab-df-convert {\n",
              "      background-color: #E8F0FE;\n",
              "      border: none;\n",
              "      border-radius: 50%;\n",
              "      cursor: pointer;\n",
              "      display: none;\n",
              "      fill: #1967D2;\n",
              "      height: 32px;\n",
              "      padding: 0 0 0 0;\n",
              "      width: 32px;\n",
              "    }\n",
              "\n",
              "    .colab-df-convert:hover {\n",
              "      background-color: #E2EBFA;\n",
              "      box-shadow: 0px 1px 2px rgba(60, 64, 67, 0.3), 0px 1px 3px 1px rgba(60, 64, 67, 0.15);\n",
              "      fill: #174EA6;\n",
              "    }\n",
              "\n",
              "    .colab-df-buttons div {\n",
              "      margin-bottom: 4px;\n",
              "    }\n",
              "\n",
              "    [theme=dark] .colab-df-convert {\n",
              "      background-color: #3B4455;\n",
              "      fill: #D2E3FC;\n",
              "    }\n",
              "\n",
              "    [theme=dark] .colab-df-convert:hover {\n",
              "      background-color: #434B5C;\n",
              "      box-shadow: 0px 1px 3px 1px rgba(0, 0, 0, 0.15);\n",
              "      filter: drop-shadow(0px 1px 2px rgba(0, 0, 0, 0.3));\n",
              "      fill: #FFFFFF;\n",
              "    }\n",
              "  </style>\n",
              "\n",
              "    <script>\n",
              "      const buttonEl =\n",
              "        document.querySelector('#df-3d910255-6893-4322-be58-c42494b883a3 button.colab-df-convert');\n",
              "      buttonEl.style.display =\n",
              "        google.colab.kernel.accessAllowed ? 'block' : 'none';\n",
              "\n",
              "      async function convertToInteractive(key) {\n",
              "        const element = document.querySelector('#df-3d910255-6893-4322-be58-c42494b883a3');\n",
              "        const dataTable =\n",
              "          await google.colab.kernel.invokeFunction('convertToInteractive',\n",
              "                                                    [key], {});\n",
              "        if (!dataTable) return;\n",
              "\n",
              "        const docLinkHtml = 'Like what you see? Visit the ' +\n",
              "          '<a target=\"_blank\" href=https://colab.research.google.com/notebooks/data_table.ipynb>data table notebook</a>'\n",
              "          + ' to learn more about interactive tables.';\n",
              "        element.innerHTML = '';\n",
              "        dataTable['output_type'] = 'display_data';\n",
              "        await google.colab.output.renderOutput(dataTable, element);\n",
              "        const docLink = document.createElement('div');\n",
              "        docLink.innerHTML = docLinkHtml;\n",
              "        element.appendChild(docLink);\n",
              "      }\n",
              "    </script>\n",
              "  </div>\n",
              "\n",
              "\n",
              "<div id=\"df-d5bdd84f-cfce-4721-be6d-9762b3a60158\">\n",
              "  <button class=\"colab-df-quickchart\" onclick=\"quickchart('df-d5bdd84f-cfce-4721-be6d-9762b3a60158')\"\n",
              "            title=\"Suggest charts\"\n",
              "            style=\"display:none;\">\n",
              "\n",
              "<svg xmlns=\"http://www.w3.org/2000/svg\" height=\"24px\"viewBox=\"0 0 24 24\"\n",
              "     width=\"24px\">\n",
              "    <g>\n",
              "        <path d=\"M19 3H5c-1.1 0-2 .9-2 2v14c0 1.1.9 2 2 2h14c1.1 0 2-.9 2-2V5c0-1.1-.9-2-2-2zM9 17H7v-7h2v7zm4 0h-2V7h2v10zm4 0h-2v-4h2v4z\"/>\n",
              "    </g>\n",
              "</svg>\n",
              "  </button>\n",
              "\n",
              "<style>\n",
              "  .colab-df-quickchart {\n",
              "      --bg-color: #E8F0FE;\n",
              "      --fill-color: #1967D2;\n",
              "      --hover-bg-color: #E2EBFA;\n",
              "      --hover-fill-color: #174EA6;\n",
              "      --disabled-fill-color: #AAA;\n",
              "      --disabled-bg-color: #DDD;\n",
              "  }\n",
              "\n",
              "  [theme=dark] .colab-df-quickchart {\n",
              "      --bg-color: #3B4455;\n",
              "      --fill-color: #D2E3FC;\n",
              "      --hover-bg-color: #434B5C;\n",
              "      --hover-fill-color: #FFFFFF;\n",
              "      --disabled-bg-color: #3B4455;\n",
              "      --disabled-fill-color: #666;\n",
              "  }\n",
              "\n",
              "  .colab-df-quickchart {\n",
              "    background-color: var(--bg-color);\n",
              "    border: none;\n",
              "    border-radius: 50%;\n",
              "    cursor: pointer;\n",
              "    display: none;\n",
              "    fill: var(--fill-color);\n",
              "    height: 32px;\n",
              "    padding: 0;\n",
              "    width: 32px;\n",
              "  }\n",
              "\n",
              "  .colab-df-quickchart:hover {\n",
              "    background-color: var(--hover-bg-color);\n",
              "    box-shadow: 0 1px 2px rgba(60, 64, 67, 0.3), 0 1px 3px 1px rgba(60, 64, 67, 0.15);\n",
              "    fill: var(--button-hover-fill-color);\n",
              "  }\n",
              "\n",
              "  .colab-df-quickchart-complete:disabled,\n",
              "  .colab-df-quickchart-complete:disabled:hover {\n",
              "    background-color: var(--disabled-bg-color);\n",
              "    fill: var(--disabled-fill-color);\n",
              "    box-shadow: none;\n",
              "  }\n",
              "\n",
              "  .colab-df-spinner {\n",
              "    border: 2px solid var(--fill-color);\n",
              "    border-color: transparent;\n",
              "    border-bottom-color: var(--fill-color);\n",
              "    animation:\n",
              "      spin 1s steps(1) infinite;\n",
              "  }\n",
              "\n",
              "  @keyframes spin {\n",
              "    0% {\n",
              "      border-color: transparent;\n",
              "      border-bottom-color: var(--fill-color);\n",
              "      border-left-color: var(--fill-color);\n",
              "    }\n",
              "    20% {\n",
              "      border-color: transparent;\n",
              "      border-left-color: var(--fill-color);\n",
              "      border-top-color: var(--fill-color);\n",
              "    }\n",
              "    30% {\n",
              "      border-color: transparent;\n",
              "      border-left-color: var(--fill-color);\n",
              "      border-top-color: var(--fill-color);\n",
              "      border-right-color: var(--fill-color);\n",
              "    }\n",
              "    40% {\n",
              "      border-color: transparent;\n",
              "      border-right-color: var(--fill-color);\n",
              "      border-top-color: var(--fill-color);\n",
              "    }\n",
              "    60% {\n",
              "      border-color: transparent;\n",
              "      border-right-color: var(--fill-color);\n",
              "    }\n",
              "    80% {\n",
              "      border-color: transparent;\n",
              "      border-right-color: var(--fill-color);\n",
              "      border-bottom-color: var(--fill-color);\n",
              "    }\n",
              "    90% {\n",
              "      border-color: transparent;\n",
              "      border-bottom-color: var(--fill-color);\n",
              "    }\n",
              "  }\n",
              "</style>\n",
              "\n",
              "  <script>\n",
              "    async function quickchart(key) {\n",
              "      const quickchartButtonEl =\n",
              "        document.querySelector('#' + key + ' button');\n",
              "      quickchartButtonEl.disabled = true;  // To prevent multiple clicks.\n",
              "      quickchartButtonEl.classList.add('colab-df-spinner');\n",
              "      try {\n",
              "        const charts = await google.colab.kernel.invokeFunction(\n",
              "            'suggestCharts', [key], {});\n",
              "      } catch (error) {\n",
              "        console.error('Error during call to suggestCharts:', error);\n",
              "      }\n",
              "      quickchartButtonEl.classList.remove('colab-df-spinner');\n",
              "      quickchartButtonEl.classList.add('colab-df-quickchart-complete');\n",
              "    }\n",
              "    (() => {\n",
              "      let quickchartButtonEl =\n",
              "        document.querySelector('#df-d5bdd84f-cfce-4721-be6d-9762b3a60158 button');\n",
              "      quickchartButtonEl.style.display =\n",
              "        google.colab.kernel.accessAllowed ? 'block' : 'none';\n",
              "    })();\n",
              "  </script>\n",
              "</div>\n",
              "\n",
              "    </div>\n",
              "  </div>\n"
            ],
            "application/vnd.google.colaboratory.intrinsic+json": {
              "type": "dataframe",
              "variable_name": "summ_df",
              "summary": "{\n  \"name\": \"summ_df\",\n  \"rows\": 9995,\n  \"fields\": [\n    {\n      \"column\": \"abstract\",\n      \"properties\": {\n        \"dtype\": \"string\",\n        \"num_unique_values\": 9984,\n        \"samples\": [\n          \"arde\\u015fende ya\\u015fayan emekli i\\u015f\\u00e7i ko\\u00e7o\\u011flu kendi tasar\\u0131m\\u0131 olan 3 ki\\u015filik otomobille g\\u00f6renleri \\u015fa\\u015f\\u0131rt\\u0131yor\",\n          \"baklavadan yemeklere tatl\\u0131lardan \\u00e7erezlere kadar hemen her alanda t\\u00fcrk mutfa\\u011f\\u0131n\\u0131n de\\u011fi\\u015fmez lezzetleri aras\\u0131nda yer alan antep f\\u0131st\\u0131\\u011f\\u0131nda rekolte kayb\\u0131 nedeniyle fiyatlar ikiye katland\\u0131\",\n          \"abd h\\u00fck\\u00fcmeti taraf\\u0131ndan e\\u011fitim dan\\u0131\\u015fman\\u0131 olarak g\\u00f6revlendirilmi\\u015fti\"\n        ],\n        \"semantic_type\": \"\",\n        \"description\": \"\"\n      }\n    },\n    {\n      \"column\": \"content\",\n      \"properties\": {\n        \"dtype\": \"string\",\n        \"num_unique_values\": 9993,\n        \"samples\": [\n          \"heavy metal m\\u00fczik efsanevi grup in kurucu ve solist g\\u0131rlak kanser yakala te\\u015fhis ard\\u0131ndan grup 2019 i\\u00e7in planla tur pek \\u00e7ok iptal et ancak grup yeni alb\\u00fcm i\\u00e7in st\\u00fcdyo ki \\u00e7al\\u0131\\u015f devam et mustaine facebook hesap yap payla\\u015f\\u0131m g\\u0131rtlak kanser yakala bu a\\u011f\\u0131rba\\u015fl\\u0131l\\u0131k kar\\u015f\\u0131la ve bu do\\u011fru y\\u00fczle\\u015f bu tip zorluk daha \\u00f6nce de y\\u00fczle\\u015f doktor birlikte titizlik \\u00e7al\\u0131\\u015f ve y\\u00fcz 90 ba\\u015far\\u0131 ihtimal sahip bir tedavi plan \\u00e7\\u0131kar tedavi s\\u00fcre\\u00e7 \\u00e7ok ba\\u015fla de mustaine ayr\\u0131ca aileme doktor grup \\u00fcye e\\u011fitmen ve daha pek \\u00e7ok ki\\u015fi te\\u015fekk\\u00fcr et bilgilen devam et ifade kullan megadethin konser iptal et de cruis servis megacrus planla gibi 1319 ekim tarih ara ger\\u00e7ekle\\u015f megadet 2016 \\u00e7\\u0131kar dystop alb\\u00fcm takib haz\\u0131rla yeni alb\\u00fcm st\\u00fcdyo \\u00e7al\\u0131\\u015f da devam et mustaine alb\\u00fcm dinle sab\\u0131rs\\u0131zl\\u0131k bekle ifade et mustaine 1981 ile 1983 ara \\u00fcnl\\u00fc metal grup metallica yer al daha sonra bu grup megadethi kur i\\u00e7in ayr\\u0131l mustaine 30 y\\u0131l \\u00f6nce megadethi kur sonradan trash metal olarak bil t\\u00fcr \\u00f6nc\\u00fcl\\u00fck \\u00fcstlen 12 defa grammy \\u00f6d\\u00fcl aday g\\u00f6ster megadeth bir kez en iyi metal performans dal \\u00f6d\\u00fcl kazan i\",\n          \"galatasa s\\u00f6zle\\u015fme feshet sonra fenerbah\\u00e7e ile s\\u00f6zle\\u015fme imzala sakatl\\u0131k sebeb almanya git skorer haber g\\u00f6re tedavi i\\u00e7in bayern m\\u00fcnih doktor git tolga 21 g\\u00fcnl\\u00fck randevu al ayak parmak janssen olu\\u015f sakatl\\u0131k benze bir sorun ol tolga tedavi s\\u00fcre\\u00e7 iyi git ifade et tolga ci\\u011ferci ekim ay\\u0131 ba\\u015f istanbul ol art da tak\\u0131m birlikte \\u00e7al\\u0131\\u015f ba\\u015fla belir tolga galatasaray ile son ma\\u00e7\\u0131na 18 nisan \\u00e7\\u0131k\",\n          \"ikinci \\u00e7eyrek sonra oyun ip rakip kap banvit bir ara 14 say fark geri d\\u00fc\\u015f alex perez \\u00f6nderlik geri d\\u00f6n banvit fark 19.A\\u011fu say\\u0131 kadar in de son b\\u00f6l\\u00fcm iyi oyna ma\\u00e7\\u0131 lik sonu\\u00e7 kaybet bu sonu\\u00e7 banvit grup d\\u0131\\u015far\\u0131 01 topla 21 ol venstpils i i\\u00e7eri 11 toplam 12 ol banvit \\u015fampiyon lig gelecek hafta nizhny novgoro konuk olacak ma\\u00e7\\u0131n ba\\u015f iki tak\\u0131m da pota alt aktif bir \\u015fekil kullan ilk 19.A\\u011fu dakika 66 e\\u015fitlik ge\\u00e7 perez \\u00fc\\u00e7l\\u00fck banvit d\\u0131\\u015f isabet bul da ventpils rihards lomazs basket skor \\u00f6n ge\\u00e7 banvit h\\u00fccum \\u00fcre zorla ev sahip ekip pota alt bul say\\u0131 fark 19.A\\u011fu say\\u0131 \\u00e7\\u0131kar \\u00e7eyrek son b\\u00f6l\\u00fcm ismail cem ulusoyun agresiflik saye fark yarat banvit fark azal ve \\u00e7eyrek sonunda skoru ye getir ikinci \\u00e7eyrek ba\\u015f ismail cemin asisti bir de \\u00fc\\u00e7l\\u00fck bul banvit skoru te e\\u015fitle banvit yine h\\u00fccum dur ventspils anthony beane gel say\\u0131 cevap ver ve fark 19.A\\u011fu say\\u0131 \\u00e7\\u0131kar ve mola al mola ra\\u011fmen banvit h\\u00fccum ki problem devam et venstpils fark 12 say\\u0131 \\u00e7\\u0131kar r\\u0131dvan ve perez devre gir h\\u00fccum toparlan banvit fark 3 say\\u0131 d\\u00fc\\u015f\\u00fcr devre son b\\u00f6l\\u00fcm banvit marcus thornto \\u00fc\\u00e7l\\u00fck h\\u00fccum ritim bul da bir t\\u00fcrl\\u00fc jonathan arledgei dur soyun oda geri git \\u00fc\\u00e7\\u00fcnc\\u00fc \\u00e7eyrek de ventspils iyi ba\\u015fla ev sahip ekip rihar lomazs ters e\\u015fle\\u015fme bul say\\u0131 fark\\u0131 tekrar \\u00e7ift hane \\u00e7\\u0131kar ilk yar\\u0131 aksine 19.A\\u011fu \\u00e7eyrek iki tak\\u0131m da k\\u00f6t\\u00fc h\\u00fccum et say\\u0131 genellikle faul \\u00e7izgi gel ve fark de\\u011fi\\u015f skor a gel faul \\u00e7izgi skoru i\\u015fle devam et ventspils \\u00e7eyrek bitim 2 dakika kala fark 14 say\\u0131 \\u00e7\\u0131kar \\u00e7eyrek son b\\u00f6l\\u00fcm alex perez arka arka 3 say bul banvit fark azal ve son \\u00e7eyrek geri gir son \\u00e7eyrek de perez ile gir banvit 40l\\u0131k ser fark\\u0131 trilyon say\\u0131 in iki tak\\u0131m da pota alt kullan \\u00e7al\\u0131\\u015f ingus jakovics ile bu ba\\u015far ventspls skoru e getir ve mola al mola iyi d\\u00f6n banvit thornto say\\u0131 bitim 19.A\\u011fu dakika kala fark 4 say\\u0131 in ventspils faul at\\u0131\\u015f ka\\u00e7 \\u00e7al\\u0131\\u015f da r\\u0131dvan ile cevap ver banvit skoru e getir ve mola al mola ventspils say d\\u00f6n de perez ile cevap ver banvit fark 19.A\\u011fu say\\u0131 in banvit marcus thornton ile skoru e\\u015fitle \\u015fans bul da \\u015fut gir ve bir sonra ki h\\u00fccum kolay basket ye temsilci son 1 dakika trilyon say geri gir son b\\u00f6l\\u00fcm ventspils faul \\u00e7izgi hata yap bitim 10 saniye kala banvit joran morgan ile fark\\u0131 19.A\\u011fu say\\u0131 8380 in fakat arka gel teknik faul ile birlikte ev sahip ekip ma\\u00e7\\u0131 kazan kaynak eurohoops\"\n        ],\n        \"semantic_type\": \"\",\n        \"description\": \"\"\n      }\n    },\n    {\n      \"column\": \"title\",\n      \"properties\": {\n        \"dtype\": \"string\",\n        \"num_unique_values\": 9968,\n        \"samples\": [\n          \"izmit k\\u00f6rfez ge\\u00e7i\\u015f k\\u00f6pr\\u00fcs\\u00fcn\\u00fcn ad\\u0131 belli oldu\",\n          \"12 ya\\u015f\\u0131ndaki \\u00e7ocuk baltayla \\u00f6ld\\u00fcr\\u00fcld\\u00fc\",\n          \"alt\\u0131nda yeni rota 1000 dolar\"\n        ],\n        \"semantic_type\": \"\",\n        \"description\": \"\"\n      }\n    }\n  ]\n}"
            }
          },
          "metadata": {},
          "execution_count": 61
        }
      ]
    },
    {
      "cell_type": "code",
      "source": [
        "from transformers import AutoTokenizer, AutoModelForSeq2SeqLM, AutoModelForSequenceClassification\n",
        "import torch\n",
        "\n",
        "device = torch.device(\"cuda\" if torch.cuda.is_available() else \"cpu\")\n",
        "\n",
        "summ_path = \"/content/drive/MyDrive/prj/fine_tuned_model/summarizer\"\n",
        "\n",
        "summarizer_model = AutoModelForSeq2SeqLM.from_pretrained(summ_path).to(device)\n",
        "summarizer_tokenizer = AutoTokenizer.from_pretrained(summ_path)\n"
      ],
      "metadata": {
        "id": "sJr9jtoUbDT3"
      },
      "execution_count": 9,
      "outputs": []
    },
    {
      "cell_type": "code",
      "source": [
        "from tqdm import tqdm\n",
        "\n",
        "def generate_summaries(texts, model, tokenizer, max_len=128):\n",
        "    model.eval()\n",
        "    summaries = []\n",
        "\n",
        "    for text in tqdm(texts, desc=\"Generating summaries\"):\n",
        "        try:\n",
        "            inputs = tokenizer(text, return_tensors=\"pt\", truncation=True, padding=True, max_length=512).to(device)\n",
        "            with torch.no_grad():\n",
        "                output_ids = model.generate(**inputs, max_length=max_len, num_beams=4)\n",
        "            summary = tokenizer.decode(output_ids[0], skip_special_tokens=True)\n",
        "            summaries.append(summary)\n",
        "        except Exception as e:\n",
        "            print(f\"Error for input: {text[:30]}... -> {str(e)}\")\n",
        "            summaries.append(\"\")  # or handle differently\n",
        "\n",
        "    return summaries\n"
      ],
      "metadata": {
        "id": "9WHef5nCcAIz"
      },
      "execution_count": 10,
      "outputs": []
    },
    {
      "cell_type": "code",
      "source": [
        "generated = generate_summaries(texts[:10], summarizer_model, summarizer_tokenizer)"
      ],
      "metadata": {
        "colab": {
          "base_uri": "https://localhost:8080/"
        },
        "id": "3yTNnjg_eLq8",
        "outputId": "416489ae-00a7-4af0-b935-1491eb26dc30"
      },
      "execution_count": 11,
      "outputs": [
        {
          "output_type": "stream",
          "name": "stderr",
          "text": [
            "Generating summaries: 100%|██████████| 10/10 [01:20<00:00,  8.01s/it]\n"
          ]
        }
      ]
    },
    {
      "cell_type": "code",
      "source": [
        "import evaluate\n",
        "\n",
        "rouge = evaluate.load(\"rouge\")\n",
        "\n",
        "results = rouge.compute(predictions=generated, references=summaries[:10])\n",
        "\n",
        "for metric, score in results.items():\n",
        "    print(f\"{metric}: {score:.4f}\")\n"
      ],
      "metadata": {
        "colab": {
          "base_uri": "https://localhost:8080/"
        },
        "id": "8YPuOID3eU-T",
        "outputId": "574e654d-7def-444a-b5d1-683b94989856"
      },
      "execution_count": null,
      "outputs": [
        {
          "output_type": "stream",
          "name": "stdout",
          "text": [
            "rouge1: 0.3744\n",
            "rouge2: 0.2198\n",
            "rougeL: 0.3383\n",
            "rougeLsum: 0.3389\n"
          ]
        }
      ]
    },
    {
      "cell_type": "code",
      "source": [],
      "metadata": {
        "id": "QdLViCbieVKv"
      },
      "execution_count": null,
      "outputs": []
    },
    {
      "cell_type": "markdown",
      "source": [
        "# response"
      ],
      "metadata": {
        "id": "dGd-zIjHeVuK"
      }
    },
    {
      "cell_type": "code",
      "source": [
        "from transformers import AutoTokenizer, AutoModelForSeq2SeqLM, AutoModelForSequenceClassification\n",
        "import torch\n",
        "\n",
        "summ_path = \"/content/drive/MyDrive/prj/fine_tuned_model/summarizer\"\n",
        "bert1_path = \"/content/drive/MyDrive/prj/fine_tuned_model/class_model\"\n",
        "\n",
        "device = torch.device(\"cuda\" if torch.cuda.is_available() else \"cpu\")\n",
        "\n",
        "summarizer_model = AutoModelForSeq2SeqLM.from_pretrained(summ_path).to(device)\n",
        "summarizer_tokenizer = AutoTokenizer.from_pretrained(summ_path)\n",
        "\n",
        "classifier_model = AutoModelForSequenceClassification.from_pretrained(bert1_path).to(device)\n",
        "classifier_tokenizer = AutoTokenizer.from_pretrained(bert1_path)"
      ],
      "metadata": {
        "id": "wgdyvbjx0F0c"
      },
      "execution_count": 12,
      "outputs": []
    },
    {
      "cell_type": "code",
      "source": [
        "def summarize(text):\n",
        "    inputs = summarizer_tokenizer(text, return_tensors=\"pt\", truncation=True, padding=True, max_length=512).to(device)\n",
        "    summary_ids = summarizer_model.generate(**inputs, max_length=128, num_beams=4)\n",
        "    return summarizer_tokenizer.decode(summary_ids[0], skip_special_tokens=True)\n",
        "\n",
        "def classify(text, label_encoder):\n",
        "    inputs = classifier_tokenizer(text, return_tensors=\"pt\", truncation=True, padding=True, max_length=512).to(device)\n",
        "    with torch.no_grad():\n",
        "        logits = classifier_model(**inputs).logits\n",
        "    predicted = torch.argmax(logits, dim=1).cpu().numpy()[0]\n",
        "    return label_encoder.inverse_transform([predicted])[0]"
      ],
      "metadata": {
        "id": "IBsufY-_TvPO"
      },
      "execution_count": 13,
      "outputs": []
    },
    {
      "cell_type": "code",
      "source": [
        "complaint = \"15 Mart 2025 tarihinde Adana Barajyolu Ziraat Bankası şube ATM'sinde 13 bin para yatırma işlemi gerçekleştirdim, ancak ATM para haznesine nakiti koyduğumda para haznesi kapandı ve kartımı geri iade etti, (normalde para sayıp ardından ekrana tutarın yansıması onayla kısmı gelmesi gerekti) yani paramı yuttu. Ortak ATM olduğu için işlemi QNB kartım ile gerçekleştirdim, Ziraat Bankası aradığımda kendi bankanı ara dedi. QNB bankası ise talep oluşturduklarını söyledi. Tam 15 gün geçti sonuçlanmadı, dönüş yapılmıyor dendi. Bu sefer Ziraat Barajyolu şubesine gittim tekrar, sert ve kırıcı üsluplarıyla karşılaştım. Bana kendi bankanın şube müdürlüğüne ulaşması lazım! Yazılı dilekçe ver o bankadan! Dedi. Zaman ayırıp tekrar gittim böyle bir işlem olmadığını işleyişinde bu şekilde olmadığını söylediler. Bugün 23. Gün alenen parama el konulduğunu düşünüyorum. Bu kadar işlek bir yerde her gün para sayılır fazla tutar bellidir. Bir talebe bu kadar süre dönülmemesi ve iş bilmemeleri şok edici. Gelişme olursa yazımı güncelleyeceğim\"\n",
        "\n",
        "summary = summarize(complaint)\n",
        "category = classify(complaint, label_encoder)\n",
        "\n",
        "prompt = f\"\"\"\n",
        "Kullanıcıdan gelen şikayet: \"{complaint}\"\n",
        "Şikayetin özeti: \"{summary}\"\n",
        "Şikayet türü: {category}\n",
        "\n",
        "Kullanıcıya Türkçe, kibar ve çözüm odaklı bir şekilde yanıt ver.\n",
        "\"\"\"\n"
      ],
      "metadata": {
        "id": "8mQYg8FJSuY-"
      },
      "execution_count": 17,
      "outputs": []
    },
    {
      "cell_type": "code",
      "source": [
        "!pip install groq"
      ],
      "metadata": {
        "colab": {
          "base_uri": "https://localhost:8080/"
        },
        "collapsed": true,
        "id": "Z9HyVmprUBwW",
        "outputId": "4339c9e5-b946-4889-c47d-ffd7d1bc749d"
      },
      "execution_count": 14,
      "outputs": [
        {
          "output_type": "stream",
          "name": "stdout",
          "text": [
            "Collecting groq\n",
            "  Downloading groq-0.22.0-py3-none-any.whl.metadata (15 kB)\n",
            "Requirement already satisfied: anyio<5,>=3.5.0 in /usr/local/lib/python3.11/dist-packages (from groq) (4.9.0)\n",
            "Requirement already satisfied: distro<2,>=1.7.0 in /usr/local/lib/python3.11/dist-packages (from groq) (1.9.0)\n",
            "Requirement already satisfied: httpx<1,>=0.23.0 in /usr/local/lib/python3.11/dist-packages (from groq) (0.28.1)\n",
            "Requirement already satisfied: pydantic<3,>=1.9.0 in /usr/local/lib/python3.11/dist-packages (from groq) (2.11.2)\n",
            "Requirement already satisfied: sniffio in /usr/local/lib/python3.11/dist-packages (from groq) (1.3.1)\n",
            "Requirement already satisfied: typing-extensions<5,>=4.10 in /usr/local/lib/python3.11/dist-packages (from groq) (4.13.1)\n",
            "Requirement already satisfied: idna>=2.8 in /usr/local/lib/python3.11/dist-packages (from anyio<5,>=3.5.0->groq) (3.10)\n",
            "Requirement already satisfied: certifi in /usr/local/lib/python3.11/dist-packages (from httpx<1,>=0.23.0->groq) (2025.1.31)\n",
            "Requirement already satisfied: httpcore==1.* in /usr/local/lib/python3.11/dist-packages (from httpx<1,>=0.23.0->groq) (1.0.7)\n",
            "Requirement already satisfied: h11<0.15,>=0.13 in /usr/local/lib/python3.11/dist-packages (from httpcore==1.*->httpx<1,>=0.23.0->groq) (0.14.0)\n",
            "Requirement already satisfied: annotated-types>=0.6.0 in /usr/local/lib/python3.11/dist-packages (from pydantic<3,>=1.9.0->groq) (0.7.0)\n",
            "Requirement already satisfied: pydantic-core==2.33.1 in /usr/local/lib/python3.11/dist-packages (from pydantic<3,>=1.9.0->groq) (2.33.1)\n",
            "Requirement already satisfied: typing-inspection>=0.4.0 in /usr/local/lib/python3.11/dist-packages (from pydantic<3,>=1.9.0->groq) (0.4.0)\n",
            "Downloading groq-0.22.0-py3-none-any.whl (126 kB)\n",
            "\u001b[2K   \u001b[90m━━━━━━━━━━━━━━━━━━━━━━━━━━━━━━━━━━━━━━━━\u001b[0m \u001b[32m126.7/126.7 kB\u001b[0m \u001b[31m3.1 MB/s\u001b[0m eta \u001b[36m0:00:00\u001b[0m\n",
            "\u001b[?25hInstalling collected packages: groq\n",
            "Successfully installed groq-0.22.0\n"
          ]
        }
      ]
    },
    {
      "cell_type": "code",
      "source": [
        "import os\n",
        "from groq import Groq\n",
        "os.environ[\"GROQ_API_KEY\"] = \"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\""
      ],
      "metadata": {
        "id": "nJ2gAX93W8dQ"
      },
      "execution_count": 15,
      "outputs": []
    },
    {
      "cell_type": "code",
      "source": [
        "app = Groq()"
      ],
      "metadata": {
        "id": "dMt7hkBDXOYP"
      },
      "execution_count": null,
      "outputs": []
    },
    {
      "cell_type": "code",
      "source": [
        "client = Groq(\n",
        "    api_key=os.environ.get(\"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\"),\n",
        ")\n",
        "\n",
        "# Uzunluklara göre max_tokens değerleri\n",
        "lengths = {\n",
        "    \"Kısa\": {\"verbal\": \"Lütfen yanıtı kısa ve Türkçe olacak şekilde ver.\"},\n",
        "    \"Orta\": {\"verbal\": \"Lütfen yanıtı orta uzunlukta ve Türkçe bir hikâye olarak anlat.\"},\n",
        "    \"Uzun\": {\"verbal\": \"Lütfen uzun, detaylı ve Türkçe bir hikâye yaz.\"}\n",
        "}\n",
        "\n",
        "\n",
        "print(f\"complaint: {complaint} \\n\")\n",
        "print(f\"summary: {summary} \\n\")\n",
        "print(f\"category: {category} \\n\")\n",
        "\n",
        "for label, config in lengths.items():\n",
        "    print(f\"\\n--- {label} Yanıt ---\\n\")\n",
        "\n",
        "    full_prompt = f\"{config['verbal']} {prompt}\"\n",
        "\n",
        "    response = client.chat.completions.create(\n",
        "        messages=[\n",
        "            {\"role\": \"user\", \"content\": full_prompt}\n",
        "        ],\n",
        "        model=\"llama3-70b-8192\",\n",
        "\n",
        "        temperature=0.7\n",
        "    )\n",
        "\n",
        "    print(response.choices[0].message.content)\n"
      ],
      "metadata": {
        "colab": {
          "base_uri": "https://localhost:8080/"
        },
        "id": "zfGdVuszW-mA",
        "outputId": "864df0e2-1f30-4b08-a7fa-0f983ecfc26b"
      },
      "execution_count": 25,
      "outputs": [
        {
          "output_type": "stream",
          "name": "stdout",
          "text": [
            "complaint: 15 Mart 2025 tarihinde Adana Barajyolu Ziraat Bankası şube ATM'sinde 13 bin para yatırma işlemi gerçekleştirdim, ancak ATM para haznesine nakiti koyduğumda para haznesi kapandı ve kartımı geri iade etti, (normalde para sayıp ardından ekrana tutarın yansıması onayla kısmı gelmesi gerekti) yani paramı yuttu. Ortak ATM olduğu için işlemi QNB kartım ile gerçekleştirdim, Ziraat Bankası aradığımda kendi bankanı ara dedi. QNB bankası ise talep oluşturduklarını söyledi. Tam 15 gün geçti sonuçlanmadı, dönüş yapılmıyor dendi. Bu sefer Ziraat Barajyolu şubesine gittim tekrar, sert ve kırıcı üsluplarıyla karşılaştım. Bana kendi bankanın şube müdürlüğüne ulaşması lazım! Yazılı dilekçe ver o bankadan! Dedi. Zaman ayırıp tekrar gittim böyle bir işlem olmadığını işleyişinde bu şekilde olmadığını söylediler. Bugün 23. Gün alenen parama el konulduğunu düşünüyorum. Bu kadar işlek bir yerde her gün para sayılır fazla tutar bellidir. Bir talebe bu kadar süre dönülmemesi ve iş bilmemeleri şok edici. Gelişme olursa yazımı güncelleyeceğim \n",
            "\n",
            "summary: Adana Barajyolu ziraat bankası şubesinde 13 bin para yatırma işlemi gerçekleştirdim ancak para haznesi kapandı ve kartımı geri iade etti \n",
            "\n",
            "category: hesabı yönetmek \n",
            "\n",
            "\n",
            "--- Kısa Yanıt ---\n",
            "\n",
            "\"Merhaba, şikayetiniz için üzgünüz. Adana Barajyolu Ziraat Bankası şubesindeki ATM'de yaşanan para yatırma sorunuyla ilgili olarak sizinle çalışacağız. Lütfen bize daha fazla detay sağlayın, böylece sorunu çözebilmek için gerekli adımları atalım. Müşteri hizmetlerimiz sizinle iletişime geçecek ve sorunu çözüme kavuşturmak için çalışacaklardır. Teşekkür ederiz.\"\n",
            "\n",
            "--- Orta Yanıt ---\n",
            "\n",
            "Sevgili müşterimiz,\n",
            "\n",
            "Sizin yaşadığınız sorunu derin bir üzüntüyle öğrenmiş bulunuyoruz. 15 Mart 2025 tarihinde Adana Barajyolu Ziraat Bankası şube ATM'sinde 13 bin para yatırma işlemi gerçekleştirdiğinizde meydana gelen sorun, bizim için de kabul edilemez bir durum.\n",
            "\n",
            "Öncelikle, sizin deneyimlediğiniz sorun için özür diliyoruz. Para yatırma işleminin gerçekleşmediği ve kartınızın geri iade edildiği durum, bizim için de şaşırtıcı ve çözümlenmesi gereken bir sorun.\n",
            "\n",
            "Bu konuda, sizinle birlikte çalışarak sorunu çözüme ulaştırmak için ellerinden gelen çabayı gösteriyoruz. İlk olarak, QNB bankası ile iletişime geçerek talep oluşturulmasını kontrol ediyoruz. Ayrıca, Ziraat Bankası şube müdürlüğüne ulaşarak sizin yaşadığınız sorunu çözüme ulaştırmak için gerekli adımları atıyoruz.\n",
            "\n",
            "Sizin gibi değerli müşterilerimizin güvenini kazanmak ve sorunlarını çözüme ulaştırmak bizim için en önemli önceliklerden biri. Bu konuda sizinle birlikte çalışarak, sorunu çözüme ulaştırmak için gerekli adımları atıyoruz.\n",
            "\n",
            "Lütfen, sizinle ilgili gelişmeleri takip ediyoruz ve en kısa sürede sorunu çözüme ulaştırmak için çalışıyoruz. Gelişmeleri sizinle paylaşacak ve sizin memnuniyetinizi sağlamak için çalışmaya devam edeceğiz.\n",
            "\n",
            "Teşekkür ederiz sizin şikayetinizi bize iletmeniz için. Bizim için önemli olan sizin memnuniyetinizdir.\n",
            "\n",
            "Saygılarımızla,\n",
            "[Müşteri Hizmetleri Ekibi]\n",
            "\n",
            "--- Uzun Yanıt ---\n",
            "\n",
            "Merhaba,\n",
            "\n",
            "Üzüntülerinizi anlıyor ve şikayetinizle ilgili olarak sizi dinliyoruz. 15 Mart 2025 tarihinde Adana Barajyolu Ziraat Bankası şubesinde yaşanan para yatırma işlemi sırasında karşılaştığınız sorun için özür diliyoruz.\n",
            "\n",
            "Anladığımız kadarıyla, 13 bin para yatırma işlemini QNB kartınız ile gerçekleştirdiniz, ancak ATM para haznesi kapandı ve kartınızı geri iade etti. Normalde, para sayımı ardından ekranda tutarın yansıtılması onay kısmı gelmesi gerekirken, bu işlem gerçekleşmedi.\n",
            "\n",
            "Sizlerin Ziraat Bankası ile iletişime geçtiklerinde, kendi bankanıza ulaşmanız gerektiğini söylediler. QNB Bankası ise talep oluşturduklarını bildirdi. Ancak, 15 gün geçmesine rağmen sonuçlanmamış ve dönüş yapılmamıştır.\n",
            "\n",
            "Daha sonra, Ziraat Barajyolu şubesine tekrar giderek, sert ve kırıcı üsluplarıyla karşılaştınız. Size kendi bankanın şube müdürlüğüne ulaşması lazım! Yazılı dilekçe ver o bankadan! dediler. Zaman ayırıp tekrar gittiğinizde, böyle bir işlem olmadığını işleyişinde bu şekilde olmadığını söylediler.\n",
            "\n",
            "Bu durumun sizin için çok sinir bozucu olduğunu anlıyoruz. Bir talebe bu kadar süre dönülmemesi ve iş bilmemeleri gerçekten şok edici.\n",
            "\n",
            "Bizim çözüm odaklı ekibimiz, sizin şikayetinizi ciddiye alıyor ve çözüm bulmak için çalışıyor. Lütfen, sizinle birlikte çalışarak bu sorunu çözmeye çalışalım. QNB Bankası ile iletişime geçerek, talep oluşturma işlemini takip edeceğiz. Ayrıca, Ziraat Bankası şubesinde yaşanan sorun için de gerekli adımları atacağız.\n",
            "\n",
            "Bu sırada, lütfen sizinle iletişimde kalacak ve gelişmeleri sizinle paylaşacağız. Size tekrar özür diliyoruz ve sizin için en iyi çözümü bulmaya çalışıyoruz.\n",
            "\n",
            "Gelişmeler olursa, size tekrar bilgi vereceğiz. Teşekkür ederiz.\n",
            "\n",
            "İyi günler diliyoruz.\n"
          ]
        }
      ]
    }
  ]
}